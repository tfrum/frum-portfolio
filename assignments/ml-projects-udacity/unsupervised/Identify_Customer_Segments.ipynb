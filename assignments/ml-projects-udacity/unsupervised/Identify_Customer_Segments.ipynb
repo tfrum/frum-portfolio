{
 "cells": [
  {
   "cell_type": "markdown",
   "metadata": {},
   "source": [
    "# Project: Identify Customer Segments\n",
    "\n",
    "In this project, you will apply unsupervised learning techniques to identify segments of the population that form the core customer base for a mail-order sales company in Germany. These segments can then be used to direct marketing campaigns towards audiences that will have the highest expected rate of returns. The data that you will use has been provided by our partners at Bertelsmann Arvato Analytics, and represents a real-life data science task.\n",
    "\n",
    "This notebook will help you complete this task by providing a framework within which you will perform your analysis steps. In each step of the project, you will see some text describing the subtask that you will perform, followed by one or more code cells for you to complete your work. **Feel free to add additional code and markdown cells as you go along so that you can explore everything in precise chunks.** The code cells provided in the base template will outline only the major tasks, and will usually not be enough to cover all of the minor tasks that comprise it.\n",
    "\n",
    "It should be noted that while there will be precise guidelines on how you should handle certain tasks in the project, there will also be places where an exact specification is not provided. **There will be times in the project where you will need to make and justify your own decisions on how to treat the data.** These are places where there may not be only one way to handle the data. In real-life tasks, there may be many valid ways to approach an analysis task. One of the most important things you can do is clearly document your approach so that other scientists can understand the decisions you've made.\n",
    "\n",
    "At the end of most sections, there will be a Markdown cell labeled **Discussion**. In these cells, you will report your findings for the completed section, as well as document the decisions that you made in your approach to each subtask. **Your project will be evaluated not just on the code used to complete the tasks outlined, but also your communication about your observations and conclusions at each stage.**"
   ]
  },
  {
   "cell_type": "code",
   "execution_count": 2,
   "metadata": {},
   "outputs": [],
   "source": [
    "# import libraries here; add more as necessary\n",
    "import numpy as np\n",
    "import pandas as pd\n",
    "import matplotlib.pyplot as plt\n",
    "import seaborn as sns\n",
    "from IPython.display import display, HTML\n",
    "\n",
    "\n",
    "# magic word for producing visualizations in notebook\n",
    "%matplotlib inline\n",
    "\n",
    "'''\n",
    "Import note: The classroom currently uses sklearn version 0.19.\n",
    "If you need to use an imputer, it is available in sklearn.preprocessing.Imputer,\n",
    "instead of sklearn.impute as in newer versions of sklearn.\n",
    "'''\n",
    "pd.options.display.max_rows = None\n",
    "pd.options.display.max_columns = None"
   ]
  },
  {
   "cell_type": "markdown",
   "metadata": {},
   "source": [
    "### Step 0: Load the Data\n",
    "\n",
    "There are four files associated with this project (not including this one):\n",
    "\n",
    "- `Udacity_AZDIAS_Subset.csv`: Demographics data for the general population of Germany; 891211 persons (rows) x 85 features (columns).\n",
    "- `Udacity_CUSTOMERS_Subset.csv`: Demographics data for customers of a mail-order company; 191652 persons (rows) x 85 features (columns).\n",
    "- `Data_Dictionary.md`: Detailed information file about the features in the provided datasets.\n",
    "- `AZDIAS_Feature_Summary.csv`: Summary of feature attributes for demographics data; 85 features (rows) x 4 columns\n",
    "\n",
    "Each row of the demographics files represents a single person, but also includes information outside of individuals, including information about their household, building, and neighborhood. You will use this information to cluster the general population into groups with similar demographic properties. Then, you will see how the people in the customers dataset fit into those created clusters. The hope here is that certain clusters are over-represented in the customers data, as compared to the general population; those over-represented clusters will be assumed to be part of the core userbase. This information can then be used for further applications, such as targeting for a marketing campaign.\n",
    "\n",
    "To start off with, load in the demographics data for the general population into a pandas DataFrame, and do the same for the feature attributes summary. Note for all of the `.csv` data files in this project: they're semicolon (`;`) delimited, so you'll need an additional argument in your [`read_csv()`](https://pandas.pydata.org/pandas-docs/stable/generated/pandas.read_csv.html) call to read in the data properly. Also, considering the size of the main dataset, it may take some time for it to load completely.\n",
    "\n",
    "Once the dataset is loaded, it's recommended that you take a little bit of time just browsing the general structure of the dataset and feature summary file. You'll be getting deep into the innards of the cleaning in the first major step of the project, so gaining some general familiarity can help you get your bearings."
   ]
  },
  {
   "cell_type": "code",
   "execution_count": 3,
   "metadata": {},
   "outputs": [],
   "source": [
    "# Load in the general demographics data.\n",
    "# Load in the feature summary file.\n",
    "demographics_path = 'Udacity_AZDIAS_Subset.csv'\n",
    "feature_summary_path = 'AZDIAS_Feature_Summary.csv'\n",
    "\n",
    "# Test shape\n",
    "general_population_data = pd.read_csv(demographics_path, delimiter=';')\n",
    "feature_summary_data = pd.read_csv(feature_summary_path, delimiter=';')"
   ]
  },
  {
   "cell_type": "code",
   "execution_count": 4,
   "metadata": {},
   "outputs": [
    {
     "data": {
      "text/html": [
       "<div style='height: 200px; overflow: auto;'><pre>General Population Data Structure: (891221, 85)\n",
       "\n",
       "Feature Summary Data Structure: (85, 4)</pre></div>"
      ],
      "text/plain": [
       "<IPython.core.display.HTML object>"
      ]
     },
     "metadata": {},
     "output_type": "display_data"
    },
    {
     "data": {
      "text/html": [
       "<div style='height: 200px; overflow: auto;'><pre>General Population Data Head:\n",
       "   AGER_TYP  ALTERSKATEGORIE_GROB  ANREDE_KZ  CJT_GESAMTTYP  FINANZ_MINIMALIST  FINANZ_SPARER  FINANZ_VORSORGER  FINANZ_ANLEGER  FINANZ_UNAUFFAELLIGER  FINANZ_HAUSBAUER  FINANZTYP  GEBURTSJAHR  GFK_URLAUBERTYP  GREEN_AVANTGARDE  HEALTH_TYP  LP_LEBENSPHASE_FEIN  LP_LEBENSPHASE_GROB  LP_FAMILIE_FEIN  LP_FAMILIE_GROB  LP_STATUS_FEIN  LP_STATUS_GROB  NATIONALITAET_KZ  PRAEGENDE_JUGENDJAHRE  RETOURTYP_BK_S  SEMIO_SOZ  SEMIO_FAM  SEMIO_REL  SEMIO_MAT  SEMIO_VERT  SEMIO_LUST  SEMIO_ERL  SEMIO_KULT  SEMIO_RAT  SEMIO_KRIT  SEMIO_DOM  SEMIO_KAEM  SEMIO_PFLICHT  SEMIO_TRADV  SHOPPER_TYP  SOHO_KZ  TITEL_KZ  VERS_TYP  ZABEOTYP  ALTER_HH  ANZ_PERSONEN  ANZ_TITEL  HH_EINKOMMEN_SCORE  KK_KUNDENTYP  W_KEIT_KIND_HH  WOHNDAUER_2008  ANZ_HAUSHALTE_AKTIV  ANZ_HH_TITEL  GEBAEUDETYP  KONSUMNAEHE  MIN_GEBAEUDEJAHR OST_WEST_KZ  WOHNLAGE CAMEO_DEUG_2015 CAMEO_DEU_2015 CAMEO_INTL_2015  KBA05_ANTG1  KBA05_ANTG2  KBA05_ANTG3  KBA05_ANTG4  KBA05_BAUMAX  KBA05_GBZ  BALLRAUM  EWDICHTE  INNENSTADT  GEBAEUDETYP_RASTER  KKK  MOBI_REGIO  ONLINE_AFFINITAET  REGIOTYP  KBA13_ANZAHL_PKW  PLZ8_ANTG1  PLZ8_ANTG2  PLZ8_ANTG3  PLZ8_ANTG4  PLZ8_BAUMAX  PLZ8_HHZ  PLZ8_GBZ  ARBEIT  ORTSGR_KLS9  RELAT_AB\n",
       "0        -1                     2          1            2.0                  3              4                 3               5                      5                 3          4            0             10.0                 0          -1                 15.0                  4.0              2.0              2.0             1.0             1.0                 0                      0             5.0          2          6          7          5           1           5          3           3          4           7          6           6              5            3           -1      NaN       NaN        -1         3       NaN           NaN        NaN                 2.0           NaN             NaN             NaN                  NaN           NaN          NaN          NaN               NaN         NaN       NaN             NaN            NaN             NaN          NaN          NaN          NaN          NaN           NaN        NaN       NaN       NaN         NaN                 NaN  NaN         NaN                1.0       NaN               NaN         NaN         NaN         NaN         NaN          NaN       NaN       NaN     NaN          NaN       NaN\n",
       "1        -1                     1          2            5.0                  1              5                 2               5                      4                 5          1         1996             10.0                 0           3                 21.0                  6.0              5.0              3.0             2.0             1.0                 1                     14             1.0          5          4          4          3           1           2          2           3          6           4          7           4              7            6            3      1.0       0.0         2         5       0.0           2.0        0.0                 6.0           NaN             3.0             9.0                 11.0           0.0          8.0          1.0            1992.0           W       4.0               8             8A              51          0.0          0.0          0.0          2.0           5.0        1.0       6.0       3.0         8.0                 3.0  2.0         1.0                3.0       3.0             963.0         2.0         3.0         2.0         1.0          1.0       5.0       4.0     3.0          5.0       4.0\n",
       "2        -1                     3          2            3.0                  1              4                 1               2                      3                 5          1         1979             10.0                 1           3                  3.0                  1.0              1.0              1.0             3.0             2.0                 1                     15             3.0          4          1          3          3           4           4          6           3          4           7          7           7              3            3            2      0.0       0.0         1         5      17.0           1.0        0.0                 4.0           NaN             3.0             9.0                 10.0           0.0          1.0          5.0            1992.0           W       2.0               4             4C              24          1.0          3.0          1.0          0.0           0.0        3.0       2.0       4.0         4.0                 4.0  2.0         3.0                2.0       2.0             712.0         3.0         3.0         1.0         0.0          1.0       4.0       4.0     3.0          5.0       2.0\n",
       "3         2                     4          2            2.0                  4              2                 5               2                      1                 2          6         1957              1.0                 0           2                  0.0                  0.0              0.0              0.0             9.0             4.0                 1                      8             2.0          5          1          2          1           4           4          7           4          3           4          4           5              4            4            1      0.0       0.0         1         3      13.0           0.0        0.0                 1.0           NaN             NaN             9.0                  1.0           0.0          1.0          4.0            1997.0           W       7.0               2             2A              12          4.0          1.0          0.0          0.0           1.0        4.0       4.0       2.0         6.0                 4.0  0.0         4.0                1.0       0.0             596.0         2.0         2.0         2.0         0.0          1.0       3.0       4.0     2.0          3.0       3.0\n",
       "4        -1                     3          1            5.0                  4              3                 4               1                      3                 2          5         1963              5.0                 0           3                 32.0                 10.0             10.0              5.0             3.0             2.0                 1                      8             5.0          6          4          4          2           7           4          4           6          2           3          2           2              4            2            2      0.0       0.0         2         4      20.0           4.0        0.0                 5.0           1.0             2.0             9.0                  3.0           0.0          1.0          4.0            1992.0           W       3.0               6             6B              43          1.0          4.0          1.0          0.0           0.0        3.0       2.0       5.0         1.0                 5.0  3.0         3.0                5.0       5.0             435.0         2.0         4.0         2.0         1.0          2.0       3.0       3.0     4.0          6.0       5.0</pre></div>"
      ],
      "text/plain": [
       "<IPython.core.display.HTML object>"
      ]
     },
     "metadata": {},
     "output_type": "display_data"
    },
    {
     "data": {
      "text/html": [
       "<div style='height: 200px; overflow: auto;'><pre>Feature Summary Data Head:\n",
       "              attribute information_level         type missing_or_unknown\n",
       "0              AGER_TYP            person  categorical             [-1,0]\n",
       "1  ALTERSKATEGORIE_GROB            person      ordinal           [-1,0,9]\n",
       "2             ANREDE_KZ            person  categorical             [-1,0]\n",
       "3         CJT_GESAMTTYP            person  categorical                [0]\n",
       "4     FINANZ_MINIMALIST            person      ordinal               [-1]</pre></div>"
      ],
      "text/plain": [
       "<IPython.core.display.HTML object>"
      ]
     },
     "metadata": {},
     "output_type": "display_data"
    }
   ],
   "source": [
    "# Print the structure of the data\n",
    "general_population_structure = general_population_data.shape\n",
    "feature_summary_structure = feature_summary_data.shape\n",
    "\n",
    "# Display the structure in a scrollable box. Yes I know this doesn't need to be scrollable for two lines but I'm not rewriting it now.\n",
    "display(HTML(f\"<div style='height: 200px; overflow: auto;'><pre>General Population Data Structure: {general_population_structure}\\n\\nFeature Summary Data Structure: {feature_summary_structure}</pre></div>\"))\n",
    "\n",
    "# Display the first few rows in a scrollable box because that was a disaster just printing it.\n",
    "general_population_head = general_population_data.head().to_string()\n",
    "feature_summary_head = feature_summary_data.head().to_string()\n",
    "\n",
    "display(HTML(f\"<div style='height: 200px; overflow: auto;'><pre>General Population Data Head:\\n{general_population_head}</pre></div>\"))\n",
    "display(HTML(f\"<div style='height: 200px; overflow: auto;'><pre>Feature Summary Data Head:\\n{feature_summary_head}</pre></div>\"))"
   ]
  },
  {
   "cell_type": "markdown",
   "metadata": {},
   "source": [
    "> **Tip**: Add additional cells to keep everything in reasonably-sized chunks! Keyboard shortcut `esc --> a` (press escape to enter command mode, then press the 'A' key) adds a new cell before the active cell, and `esc --> b` adds a new cell after the active cell. If you need to convert an active cell to a markdown cell, use `esc --> m` and to convert to a code cell, use `esc --> y`. \n",
    "\n",
    "## Step 1: Preprocessing\n",
    "\n",
    "### Step 1.1: Assess Missing Data\n",
    "\n",
    "The feature summary file contains a summary of properties for each demographics data column. You will use this file to help you make cleaning decisions during this stage of the project. First of all, you should assess the demographics data in terms of missing data. Pay attention to the following points as you perform your analysis, and take notes on what you observe. Make sure that you fill in the **Discussion** cell with your findings and decisions at the end of each step that has one!\n",
    "\n",
    "#### Step 1.1.1: Convert Missing Value Codes to NaNs\n",
    "The fourth column of the feature attributes summary (loaded in above as `feat_info`) documents the codes from the data dictionary that indicate missing or unknown data. While the file encodes this as a list (e.g. `[-1,0]`), this will get read in as a string object. You'll need to do a little bit of parsing to make use of it to identify and clean the data. Convert data that matches a 'missing' or 'unknown' value code into a numpy NaN value. You might want to see how much data takes on a 'missing' or 'unknown' code, and how much data is naturally missing, as a point of interest.\n",
    "\n",
    "**As one more reminder, you are encouraged to add additional cells to break up your analysis into manageable chunks.**"
   ]
  },
  {
   "cell_type": "code",
   "execution_count": 5,
   "metadata": {},
   "outputs": [],
   "source": [
    "# Identify missing or unknown data values and convert them to NaNs.\n",
    "\n",
    "# This function to convert missing value codes to NaNs\n",
    "# Yes a regular for-loop isn't exactly optimal for a dataset with n > 800,000 rows and 85 data points. I'm not concerned.\n",
    "# I wanted to demonstrate understanding of the process. You'll frequently see me ignore that \"\"\" ... \"\"\" comments exist, too.\n",
    "def convert_to_nan(df, summary_df):\n",
    "    for index, row in summary_df.iterrows():\n",
    "        attribute = row['attribute']\n",
    "        missing_values = row['missing_or_unknown']\n",
    "        # Parse the string of missing values to a list of values\n",
    "        if isinstance(missing_values, str):\n",
    "            missing_values = missing_values.strip('[]').replace(' ', '').split(',')\n",
    "            missing_values = [val.replace('\\'', '') for val in missing_values]  # Remove any quotation marks\n",
    "\n",
    "        if missing_values != ['']:\n",
    "            df[attribute] = df[attribute].replace(missing_values, np.nan)\n",
    "    return df\n",
    "\n",
    "general_population_data_cleaned = convert_to_nan(general_population_data, feature_summary_data)"
   ]
  },
  {
   "cell_type": "markdown",
   "metadata": {},
   "source": [
    "#### Step 1.1.2: Assess Missing Data in Each Column\n",
    "\n",
    "How much missing data is present in each column? There are a few columns that are outliers in terms of the proportion of values that are missing. You will want to use matplotlib's [`hist()`](https://matplotlib.org/api/_as_gen/matplotlib.pyplot.hist.html) function to visualize the distribution of missing value counts to find these columns. Identify and document these columns. While some of these columns might have justifications for keeping or re-encoding the data, for this project you should just remove them from the dataframe. (Feel free to make remarks about these outlier columns in the discussion, however!)\n",
    "\n",
    "For the remaining features, are there any patterns in which columns have, or share, missing data?"
   ]
  },
  {
   "cell_type": "code",
   "execution_count": 6,
   "metadata": {},
   "outputs": [
    {
     "data": {
      "image/png": "[encoded data removed]",
      "text/plain": [
       "<Figure size 720x432 with 1 Axes>"
      ]
     },
     "metadata": {
      "needs_background": "light"
     },
     "output_type": "display_data"
    },
    {
     "name": "stdout",
     "output_type": "stream",
     "text": [
      "Columns with more than 30% missing values: ['KK_KUNDENTYP']\n"
     ]
    }
   ],
   "source": [
    "# Perform an assessment of how much missing data there is in each column of the\n",
    "# dataset.\n",
    "missing_data_counts = general_population_data_cleaned.isnull().sum()\n",
    "missing_data_proportion = missing_data_counts / len(general_population_data_cleaned)\n",
    "\n",
    "plt.figure(figsize=(10, 6))\n",
    "plt.hist(missing_data_proportion, bins=50)\n",
    "plt.xlabel('Proportion of Missing Values')\n",
    "plt.ylabel('Number of Columns')\n",
    "plt.title('Distribution of Missing Value Proportions')\n",
    "plt.show()\n",
    "\n",
    "high_missing_columns = missing_data_proportion[missing_data_proportion > 0.30].index.tolist()\n",
    "\n",
    "print(f\"Columns with more than 30% missing values: {high_missing_columns}\")\n",
    "\n",
    "general_population_data_cleaned = general_population_data_cleaned.drop(columns=high_missing_columns)\n",
    "\n",
    "# Dropping more severe outliers\n",
    "general_population_data_cleaned.to_csv('Udacity_AZDIAS_Subset_Cleaned_30%_Missing.csv', sep=';', index=False)"
   ]
  },
  {
   "cell_type": "code",
   "execution_count": 7,
   "metadata": {
    "scrolled": true
   },
   "outputs": [
    {
     "name": "stdout",
     "output_type": "stream",
     "text": [
      "Columns with missing values:\n",
      " CJT_GESAMTTYP          0.005446\n",
      "GFK_URLAUBERTYP        0.005446\n",
      "LP_LEBENSPHASE_FEIN    0.005446\n",
      "LP_LEBENSPHASE_GROB    0.005446\n",
      "LP_FAMILIE_FEIN        0.005446\n",
      "LP_FAMILIE_GROB        0.005446\n",
      "LP_STATUS_FEIN         0.005446\n",
      "LP_STATUS_GROB         0.005446\n",
      "RETOURTYP_BK_S         0.005446\n",
      "SOHO_KZ                0.082470\n",
      "TITEL_KZ               0.082470\n",
      "ALTER_HH               0.082470\n",
      "ANZ_PERSONEN           0.082470\n",
      "ANZ_TITEL              0.082470\n",
      "HH_EINKOMMEN_SCORE     0.020587\n",
      "KK_KUNDENTYP           0.655967\n",
      "W_KEIT_KIND_HH         0.120735\n",
      "WOHNDAUER_2008         0.082470\n",
      "ANZ_HAUSHALTE_AKTIV    0.104517\n",
      "ANZ_HH_TITEL           0.108848\n",
      "GEBAEUDETYP            0.104517\n",
      "KONSUMNAEHE            0.082997\n",
      "MIN_GEBAEUDEJAHR       0.104517\n",
      "OST_WEST_KZ            0.104517\n",
      "WOHNLAGE               0.104517\n",
      "CAMEO_DEUG_2015        0.111479\n",
      "CAMEO_DEU_2015         0.111479\n",
      "CAMEO_INTL_2015        0.111479\n",
      "KBA05_ANTG1            0.149597\n",
      "KBA05_ANTG2            0.149597\n",
      "KBA05_ANTG3            0.149597\n",
      "KBA05_ANTG4            0.149597\n",
      "KBA05_BAUMAX           0.149597\n",
      "KBA05_GBZ              0.149597\n",
      "BALLRAUM               0.105182\n",
      "EWDICHTE               0.105182\n",
      "INNENSTADT             0.105182\n",
      "GEBAEUDETYP_RASTER     0.104525\n",
      "KKK                    0.135989\n",
      "MOBI_REGIO             0.149597\n",
      "ONLINE_AFFINITAET      0.005446\n",
      "REGIOTYP               0.135989\n",
      "KBA13_ANZAHL_PKW       0.118714\n",
      "PLZ8_ANTG1             0.130736\n",
      "PLZ8_ANTG2             0.130736\n",
      "PLZ8_ANTG3             0.130736\n",
      "PLZ8_ANTG4             0.130736\n",
      "PLZ8_BAUMAX            0.130736\n",
      "PLZ8_HHZ               0.130736\n",
      "PLZ8_GBZ               0.130736\n",
      "ARBEIT                 0.109082\n",
      "ORTSGR_KLS9            0.109082\n",
      "RELAT_AB               0.109082\n",
      "dtype: float64\n"
     ]
    }
   ],
   "source": [
    "# Investigate patterns in the amount of missing data in each column.\n",
    "# correlation of missing values between columns\n",
    "# This isn't immediately going to be useful, and I cut it off for columns that have less\n",
    "# Than 5% null values.\n",
    "# Check the columns with missing values\n",
    "print(\"Columns with missing values:\\n\", missing_data_proportion[missing_data_proportion > 0])\n",
    "\n",
    "# Identify columns with significant missing data\n",
    "significant_missing_data = missing_data_proportion[missing_data_proportion >= 0.05].index.tolist()\n",
    "\n",
    "# I ran into an issue where I was getting bad keys, so let's verify.\n",
    "significant_missing_data = [col for col in significant_missing_data if col in general_population_data_cleaned.columns]\n",
    "\n",
    "# Filter the dataframe to include only these columns\n",
    "significant_missing_data_cleaned = general_population_data_cleaned[significant_missing_data]\n"
   ]
  },
  {
   "cell_type": "code",
   "execution_count": 8,
   "metadata": {},
   "outputs": [
    {
     "data": {
      "image/png": "[encoded data removed]",
      "text/plain": [
       "<Figure size 720x576 with 2 Axes>"
      ]
     },
     "metadata": {
      "needs_background": "light"
     },
     "output_type": "display_data"
    }
   ],
   "source": [
    "# Calculate correlation of missing values between these columns\n",
    "missing_data_corr = significant_missing_data_cleaned.isnull().corr()\n",
    "\n",
    "plt.figure(figsize=(10, 8))\n",
    "sns.heatmap(missing_data_corr, cmap='coolwarm', center=0)\n",
    "plt.title('Correlation of Missing Data Between Columns')\n",
    "plt.show()"
   ]
  },
  {
   "cell_type": "code",
   "execution_count": 9,
   "metadata": {},
   "outputs": [],
   "source": [
    "# Remove the outlier columns from the dataset. (You'll perform other data\n",
    "# engineering tasks such as re-encoding and imputation later.)\n",
    "# I'm going to drop any column with more than 5% missing. I'll explain below.\n",
    "general_population_data_final = general_population_data_cleaned.drop(columns=significant_missing_data)"
   ]
  },
  {
   "cell_type": "markdown",
   "metadata": {},
   "source": [
    "#### Discussion 1.1.2: Assess Missing Data in Each Column\n",
    "\n",
    "I made the decision to drop all of the columns with more than 5% missing data. Why? They wre all significantly correlated with eachother. As you can see by the clustering above, some of them were obviously measuring the same category of object, but virtually all still held correlations of greater than .6. That's kind of a shocking result in a dataset this large, and indicates that even the less flawed columns ought to be discarded as a batch, as they likely are missing key information that correlates strongly with them.\n",
    "\n",
    "That dropped our column count down to 43. This is a very conservative approach, I know.\n",
    "\n",
    "However, I'm doing this because imputation is fundamentally bad practice when you're imputing values in a subset of datapoints that are so strongly connected. If I wanted to mitigate this, I would actually train a small model to perform my imputation. Maybe that's what this has in mind. All I'd need to do is reference my 30% missing dataset instead."
   ]
  },
  {
   "cell_type": "code",
   "execution_count": 10,
   "metadata": {},
   "outputs": [
    {
     "data": {
      "text/plain": [
       "(891221, 43)"
      ]
     },
     "execution_count": 10,
     "metadata": {},
     "output_type": "execute_result"
    }
   ],
   "source": [
    "general_population_data_final.shape"
   ]
  },
  {
   "cell_type": "markdown",
   "metadata": {},
   "source": [
    "#### Step 1.1.3: Assess Missing Data in Each Row\n",
    "\n",
    "Now, you'll perform a similar assessment for the rows of the dataset. How much data is missing in each row? As with the columns, you should see some groups of points that have a very different numbers of missing values. Divide the data into two subsets: one for data points that are above some threshold for missing values, and a second subset for points below that threshold.\n",
    "\n",
    "In order to know what to do with the outlier rows, we should see if the distribution of data values on columns that are not missing data (or are missing very little data) are similar or different between the two groups. Select at least five of these columns and compare the distribution of values.\n",
    "- You can use seaborn's [`countplot()`](https://seaborn.pydata.org/generated/seaborn.countplot.html) function to create a bar chart of code frequencies and matplotlib's [`subplot()`](https://matplotlib.org/api/_as_gen/matplotlib.pyplot.subplot.html) function to put bar charts for the two subplots side by side.\n",
    "- To reduce repeated code, you might want to write a function that can perform this comparison, taking as one of its arguments a column to be compared.\n",
    "\n",
    "Depending on what you observe in your comparison, this will have implications on how you approach your conclusions later in the analysis. If the distributions of non-missing features look similar between the data with many missing values and the data with few or no missing values, then we could argue that simply dropping those points from the analysis won't present a major issue. On the other hand, if the data with many missing values looks very different from the data with few or no missing values, then we should make a note on those data as special. We'll revisit these data later on. **Either way, you should continue your analysis for now using just the subset of the data with few or no missing values.**"
   ]
  },
  {
   "cell_type": "code",
   "execution_count": 11,
   "metadata": {},
   "outputs": [
    {
     "data": {
      "image/png": "[encoded data removed]",
      "text/plain": [
       "<Figure size 864x432 with 1 Axes>"
      ]
     },
     "metadata": {
      "needs_background": "light"
     },
     "output_type": "display_data"
    },
    {
     "data": {
      "image/png": "[encoded data removed]",
      "text/plain": [
       "<Figure size 864x432 with 1 Axes>"
      ]
     },
     "metadata": {
      "needs_background": "light"
     },
     "output_type": "display_data"
    }
   ],
   "source": [
    "# How much data is missing in each row of the dataset?\n",
    "#cleaned data with no high missing values (30% threshold)\n",
    "data_30pct = pd.read_csv('Udacity_AZDIAS_Subset_Cleaned_30%_Missing.csv', delimiter=';')\n",
    "\n",
    "#I want to see the distribution of missing values better, so we'll drop rows without any null values.\n",
    "missing_data_per_row_30pct = data_30pct.isnull().sum(axis=1) / data_30pct.shape[1]\n",
    "missing_data_per_row_30pct = missing_data_per_row_30pct[missing_data_per_row_30pct > 0]\n",
    "\n",
    "plt.figure(figsize=(12, 6))\n",
    "plt.hist(missing_data_per_row_30pct, bins=50, color='blue', alpha=0.7)\n",
    "plt.xlabel('Proportion of Missing Values')\n",
    "plt.ylabel('Number of Rows')\n",
    "plt.title('Distribution of Missing Values per Row (30% Dataset)')\n",
    "plt.show()\n",
    "\n",
    "# cleaned data with significant missing columns removed (5% threshold)\n",
    "data_5pct = general_population_data_final\n",
    "\n",
    "missing_data_per_row_5pct = data_5pct.isnull().sum(axis=1) / data_5pct.shape[1]\n",
    "missing_data_per_row_5pct = missing_data_per_row_5pct[missing_data_per_row_5pct > 0]\n",
    "\n",
    "plt.figure(figsize=(12, 6))\n",
    "plt.hist(missing_data_per_row_5pct, bins=50, color='green', alpha=0.7)\n",
    "plt.xlabel('Proportion of Missing Values')\n",
    "plt.ylabel('Number of Rows')\n",
    "plt.title('Distribution of Missing Values per Row (5% Dataset)')\n",
    "plt.show()\n",
    "\n"
   ]
  },
  {
   "cell_type": "code",
   "execution_count": 12,
   "metadata": {},
   "outputs": [],
   "source": [
    "# Write code to divide the data into two subsets based on the number of missing\n",
    "# values in each row.\n",
    "# See discussion.\n"
   ]
  },
  {
   "cell_type": "code",
   "execution_count": 13,
   "metadata": {},
   "outputs": [],
   "source": [
    "# Compare the distribution of values for at least five columns where there are\n",
    "# no or few missing values, between the two subsets.\n",
    "# See above graphs.\n"
   ]
  },
  {
   "cell_type": "markdown",
   "metadata": {},
   "source": [
    "#### Discussion 1.1.3: Assess Missing Data in Each Row\n",
    "\n",
    "So, I kind of already addressed this by doing a correlation heat map of the columns. Actually, that's exactly what I did above. I think this step wanted me to do something like what I did and I just got ahead of it.\n",
    "\n",
    "By dropping columns with more than 5% missing values I virtually eliminated most rows that had missing values. Now, that poses the question, should I have just eliminated all rows with missing values above 0.05 proportion or eliminated the columns? On a dataset this we probably have enough predictive value for the task regardless of whether or not we reduce the number of data points by half or the number of data entries in half. K-means clustering (I have examples of it all over my github, it's my favorite way to test math in a new language) really doesn't care either way, and I'm guessing we're going to segment customer data with a variation on k-means."
   ]
  },
  {
   "cell_type": "code",
   "execution_count": 14,
   "metadata": {},
   "outputs": [
    {
     "name": "stdout",
     "output_type": "stream",
     "text": [
      "(868119, 43)\n",
      "(697612, 84)\n"
     ]
    }
   ],
   "source": [
    "# If I drop all of the missing values in the 5% set\n",
    "no_missing_5pct = data_5pct.dropna()\n",
    "no_missing_30pct = data_30pct.dropna()\n",
    "\n",
    "print(no_missing_5pct.shape)\n",
    "print(no_missing_30pct.shape)\n"
   ]
  },
  {
   "cell_type": "markdown",
   "metadata": {},
   "source": [
    "Now, that should tell us something here.\n",
    "\n",
    "We started out with 891221 people. If we drop all of the columns with 5% missing, we only lose 2.6% of our dataset. So if the number of observations in our dataset is important, we should drop columns and cull from there to ensure extremely high quality observations are kept, as low quality data points should be avoided.\n",
    "\n",
    "But, even if we just drop all the missing value rows with only the worst column dropped we still keep 78.7% of our dataset. That's not bad. We have both options moving forward, and will make this decision when we go to test this dataset.\n",
    "\n",
    "If the same quality issues aren't present in the customer's subset, then we should probably just drop all the NA's. However, debating whether or not to drop those columns or the people who don't operate corerctly within them could get messy and subjective.\n",
    "\n",
    "For now let's just drop *every* row with a missing value and the worst column to simplify things on the other end. We'll just use the 30pct dataset moving forward."
   ]
  },
  {
   "cell_type": "markdown",
   "metadata": {},
   "source": [
    "### Step 1.2: Select and Re-Encode Features\n",
    "\n",
    "Checking for missing data isn't the only way in which you can prepare a dataset for analysis. Since the unsupervised learning techniques to be used will only work on data that is encoded numerically, you need to make a few encoding changes or additional assumptions to be able to make progress. In addition, while almost all of the values in the dataset are encoded using numbers, not all of them represent numeric values. Check the third column of the feature summary (`feat_info`) for a summary of types of measurement.\n",
    "- For numeric and interval data, these features can be kept without changes.\n",
    "- Most of the variables in the dataset are ordinal in nature. While ordinal values may technically be non-linear in spacing, make the simplifying assumption that the ordinal variables can be treated as being interval in nature (that is, kept without any changes).\n",
    "- Special handling may be necessary for the remaining two variable types: categorical, and 'mixed'.\n",
    "\n",
    "In the first two parts of this sub-step, you will perform an investigation of the categorical and mixed-type features and make a decision on each of them, whether you will keep, drop, or re-encode each. Then, in the last part, you will create a new data frame with only the selected and engineered columns.\n",
    "\n",
    "Data wrangling is often the trickiest part of the data analysis process, and there's a lot of it to be done here. But stick with it: once you're done with this step, you'll be ready to get to the machine learning parts of the project!"
   ]
  },
  {
   "cell_type": "code",
   "execution_count": 15,
   "metadata": {},
   "outputs": [
    {
     "name": "stdout",
     "output_type": "stream",
     "text": [
      "Number of features of each data type:\n",
      " type\n",
      "ordinal        49\n",
      "categorical    21\n",
      "numeric         7\n",
      "mixed           7\n",
      "interval        1\n",
      "Name: count, dtype: int64\n"
     ]
    }
   ],
   "source": [
    "# How many features are there of each data type?\n",
    "feature_summary_path = 'AZDIAS_Feature_Summary.csv'\n",
    "feature_summary_data = pd.read_csv(feature_summary_path, delimiter=';')\n",
    "\n",
    "# Count the number of features of each data type\n",
    "data_type_counts = feature_summary_data['type'].value_counts()\n",
    "\n",
    "# Display the counts of each data type\n",
    "print(\"Number of features of each data type:\\n\", data_type_counts)\n",
    "\n"
   ]
  },
  {
   "cell_type": "markdown",
   "metadata": {},
   "source": [
    "#### Step 1.2.1: Re-Encode Categorical Features\n",
    "\n",
    "For categorical data, you would ordinarily need to encode the levels as dummy variables. Depending on the number of categories, perform one of the following:\n",
    "- For binary (two-level) categoricals that take numeric values, you can keep them without needing to do anything.\n",
    "- There is one binary variable that takes on non-numeric values. For this one, you need to re-encode the values as numbers or create a dummy variable.\n",
    "- For multi-level categoricals (three or more values), you can choose to encode the values using multiple dummy variables (e.g. via [OneHotEncoder](http://scikit-learn.org/stable/modules/generated/sklearn.preprocessing.OneHotEncoder.html)), or (to keep things straightforward) just drop them from the analysis. As always, document your choices in the Discussion section."
   ]
  },
  {
   "cell_type": "code",
   "execution_count": 16,
   "metadata": {},
   "outputs": [
    {
     "name": "stdout",
     "output_type": "stream",
     "text": [
      "Binary categorical features: ['ANREDE_KZ', 'GREEN_AVANTGARDE']\n",
      "\n",
      "Multi-level categorical features: ['AGER_TYP', 'CJT_GESAMTTYP', 'FINANZTYP', 'GFK_URLAUBERTYP', 'LP_FAMILIE_FEIN', 'LP_FAMILIE_GROB', 'LP_STATUS_FEIN', 'LP_STATUS_GROB', 'NATIONALITAET_KZ', 'SHOPPER_TYP', 'SOHO_KZ', 'TITEL_KZ', 'VERS_TYP', 'ZABEOTYP', 'KK_KUNDENTYP', 'GEBAEUDETYP', 'OST_WEST_KZ', 'CAMEO_DEUG_2015', 'CAMEO_DEU_2015']\n",
      "\n",
      "Non-numeric binary feature: None\n",
      "\n"
     ]
    }
   ],
   "source": [
    "# Assess categorical variables: which are binary, which are multi-level, and\n",
    "# which one needs to be re-encoded?\n",
    "\n",
    "# Ok.\n",
    "categorical_features = feature_summary_data[feature_summary_data['type'] == 'categorical']['attribute'].tolist()\n",
    "\n",
    "# Assess categorical variables: binary, multi-level, and the one that needs re-encoding\n",
    "binary_categorical_features = []\n",
    "multi_level_categorical_features = []\n",
    "non_numeric_binary_feature = None\n",
    "\n",
    "for feature in categorical_features:\n",
    "    unique_values = general_population_data[feature].unique()\n",
    "    if len(unique_values) == 2:\n",
    "        # Check if the binary feature is non-numeric\n",
    "        if not pd.api.types.is_numeric_dtype(unique_values):\n",
    "            non_numeric_binary_feature = feature\n",
    "        else:\n",
    "            binary_categorical_features.append(feature)\n",
    "    elif len(unique_values) > 2:\n",
    "        multi_level_categorical_features.append(feature)\n",
    "\n",
    "print(f\"Binary categorical features: {binary_categorical_features}\\n\")\n",
    "print(f\"Multi-level categorical features: {multi_level_categorical_features}\\n\")\n",
    "print(f\"Non-numeric binary feature: {non_numeric_binary_feature}\\n\")\n",
    "\n"
   ]
  },
  {
   "cell_type": "code",
   "execution_count": 17,
   "metadata": {},
   "outputs": [
    {
     "name": "stdout",
     "output_type": "stream",
     "text": [
      "(891221, 66)\n"
     ]
    }
   ],
   "source": [
    "# Re-encode categorical variable(s) to be kept in the analysis.\n",
    "if non_numeric_binary_feature:\n",
    "    general_population_data[non_numeric_binary_feature] = general_population_data[non_numeric_binary_feature].map({'W': 1, 'O': 0})\n",
    "\n",
    "# Drop multi-level categorical features\n",
    "general_population_data = general_population_data.drop(columns=multi_level_categorical_features)\n",
    "\n",
    "# Verify changes\n",
    "print(general_population_data.shape)\n"
   ]
  },
  {
   "cell_type": "markdown",
   "metadata": {},
   "source": [
    "#### Discussion 1.2.1: Re-Encode Categorical Features\n",
    "\n",
    "(Double-click this cell and replace this text with your own text, reporting your findings and decisions regarding categorical features. Which ones did you keep, which did you drop, and what engineering steps did you perform?)"
   ]
  },
  {
   "cell_type": "markdown",
   "metadata": {},
   "source": [
    "#### Step 1.2.2: Engineer Mixed-Type Features\n",
    "\n",
    "There are a handful of features that are marked as \"mixed\" in the feature summary that require special treatment in order to be included in the analysis. There are two in particular that deserve attention; the handling of the rest are up to your own choices:\n",
    "- \"PRAEGENDE_JUGENDJAHRE\" combines information on three dimensions: generation by decade, movement (mainstream vs. avantgarde), and nation (east vs. west). While there aren't enough levels to disentangle east from west, you should create two new variables to capture the other two dimensions: an interval-type variable for decade, and a binary variable for movement.\n",
    "- \"CAMEO_INTL_2015\" combines information on two axes: wealth and life stage. Break up the two-digit codes by their 'tens'-place and 'ones'-place digits into two new ordinal variables (which, for the purposes of this project, is equivalent to just treating them as their raw numeric values).\n",
    "- If you decide to keep or engineer new features around the other mixed-type features, make sure you note your steps in the Discussion section.\n",
    "\n",
    "Be sure to check `Data_Dictionary.md` for the details needed to finish these tasks."
   ]
  },
  {
   "cell_type": "code",
   "execution_count": null,
   "metadata": {},
   "outputs": [],
   "source": [
    "# Investigate \"PRAEGENDE_JUGENDJAHRE\" and engineer two new variables.\n",
    "\n"
   ]
  },
  {
   "cell_type": "code",
   "execution_count": null,
   "metadata": {},
   "outputs": [],
   "source": [
    "# Investigate \"CAMEO_INTL_2015\" and engineer two new variables.\n",
    "\n"
   ]
  },
  {
   "cell_type": "markdown",
   "metadata": {},
   "source": [
    "#### Discussion 1.2.2: Engineer Mixed-Type Features\n",
    "\n",
    "(Double-click this cell and replace this text with your own text, reporting your findings and decisions regarding mixed-value features. Which ones did you keep, which did you drop, and what engineering steps did you perform?)"
   ]
  },
  {
   "cell_type": "markdown",
   "metadata": {},
   "source": [
    "#### Step 1.2.3: Complete Feature Selection\n",
    "\n",
    "In order to finish this step up, you need to make sure that your data frame now only has the columns that you want to keep. To summarize, the dataframe should consist of the following:\n",
    "- All numeric, interval, and ordinal type columns from the original dataset.\n",
    "- Binary categorical features (all numerically-encoded).\n",
    "- Engineered features from other multi-level categorical features and mixed features.\n",
    "\n",
    "Make sure that for any new columns that you have engineered, that you've excluded the original columns from the final dataset. Otherwise, their values will interfere with the analysis later on the project. For example, you should not keep \"PRAEGENDE_JUGENDJAHRE\", since its values won't be useful for the algorithm: only the values derived from it in the engineered features you created should be retained. As a reminder, your data should only be from **the subset with few or no missing values**."
   ]
  },
  {
   "cell_type": "code",
   "execution_count": null,
   "metadata": {},
   "outputs": [],
   "source": [
    "# If there are other re-engineering tasks you need to perform, make sure you\n",
    "# take care of them here. (Dealing with missing data will come in step 2.1.)\n",
    "\n"
   ]
  },
  {
   "cell_type": "code",
   "execution_count": null,
   "metadata": {},
   "outputs": [],
   "source": [
    "# Do whatever you need to in order to ensure that the dataframe only contains\n",
    "# the columns that should be passed to the algorithm functions.\n",
    "\n"
   ]
  },
  {
   "cell_type": "markdown",
   "metadata": {},
   "source": [
    "### Step 1.3: Create a Cleaning Function\n",
    "\n",
    "Even though you've finished cleaning up the general population demographics data, it's important to look ahead to the future and realize that you'll need to perform the same cleaning steps on the customer demographics data. In this substep, complete the function below to execute the main feature selection, encoding, and re-engineering steps you performed above. Then, when it comes to looking at the customer data in Step 3, you can just run this function on that DataFrame to get the trimmed dataset in a single step."
   ]
  },
  {
   "cell_type": "code",
   "execution_count": null,
   "metadata": {},
   "outputs": [],
   "source": [
    "def clean_data(df):\n",
    "    \"\"\"\n",
    "    Perform feature trimming, re-encoding, and engineering for demographics\n",
    "    data\n",
    "    \n",
    "    INPUT: Demographics DataFrame\n",
    "    OUTPUT: Trimmed and cleaned demographics DataFrame\n",
    "    \"\"\"\n",
    "    \n",
    "    # Put in code here to execute all main cleaning steps:\n",
    "    # convert missing value codes into NaNs, ...\n",
    "    \n",
    "    \n",
    "    # remove selected columns and rows, ...\n",
    "\n",
    "    \n",
    "    # select, re-encode, and engineer column values.\n",
    "\n",
    "    \n",
    "    # Return the cleaned dataframe.\n",
    "    \n",
    "    "
   ]
  },
  {
   "cell_type": "markdown",
   "metadata": {},
   "source": [
    "## Step 2: Feature Transformation\n",
    "\n",
    "### Step 2.1: Apply Feature Scaling\n",
    "\n",
    "Before we apply dimensionality reduction techniques to the data, we need to perform feature scaling so that the principal component vectors are not influenced by the natural differences in scale for features. Starting from this part of the project, you'll want to keep an eye on the [API reference page for sklearn](http://scikit-learn.org/stable/modules/classes.html) to help you navigate to all of the classes and functions that you'll need. In this substep, you'll need to check the following:\n",
    "\n",
    "- sklearn requires that data not have missing values in order for its estimators to work properly. So, before applying the scaler to your data, make sure that you've cleaned the DataFrame of the remaining missing values. This can be as simple as just removing all data points with missing data, or applying an [Imputer](https://scikit-learn.org/0.16/modules/generated/sklearn.preprocessing.Imputer.html) to replace all missing values. You might also try a more complicated procedure where you temporarily remove missing values in order to compute the scaling parameters before re-introducing those missing values and applying imputation. Think about how much missing data you have and what possible effects each approach might have on your analysis, and justify your decision in the discussion section below.\n",
    "- For the actual scaling function, a [StandardScaler](http://scikit-learn.org/stable/modules/generated/sklearn.preprocessing.StandardScaler.html) instance is suggested, scaling each feature to mean 0 and standard deviation 1.\n",
    "- For these classes, you can make use of the `.fit_transform()` method to both fit a procedure to the data as well as apply the transformation to the data at the same time. Don't forget to keep the fit sklearn objects handy, since you'll be applying them to the customer demographics data towards the end of the project."
   ]
  },
  {
   "cell_type": "code",
   "execution_count": null,
   "metadata": {},
   "outputs": [],
   "source": [
    "# If you've not yet cleaned the dataset of all NaN values, then investigate and\n",
    "# do that now.\n",
    "\n"
   ]
  },
  {
   "cell_type": "code",
   "execution_count": null,
   "metadata": {},
   "outputs": [],
   "source": [
    "# Apply feature scaling to the general population demographics data.\n",
    "\n"
   ]
  },
  {
   "cell_type": "markdown",
   "metadata": {},
   "source": [
    "### Discussion 2.1: Apply Feature Scaling\n",
    "\n",
    "(Double-click this cell and replace this text with your own text, reporting your decisions regarding feature scaling.)"
   ]
  },
  {
   "cell_type": "markdown",
   "metadata": {},
   "source": [
    "### Step 2.2: Perform Dimensionality Reduction\n",
    "\n",
    "On your scaled data, you are now ready to apply dimensionality reduction techniques.\n",
    "\n",
    "- Use sklearn's [PCA](http://scikit-learn.org/stable/modules/generated/sklearn.decomposition.PCA.html) class to apply principal component analysis on the data, thus finding the vectors of maximal variance in the data. To start, you should not set any parameters (so all components are computed) or set a number of components that is at least half the number of features (so there's enough features to see the general trend in variability).\n",
    "- Check out the ratio of variance explained by each principal component as well as the cumulative variance explained. Try plotting the cumulative or sequential values using matplotlib's [`plot()`](https://matplotlib.org/api/_as_gen/matplotlib.pyplot.plot.html) function. Based on what you find, select a value for the number of transformed features you'll retain for the clustering part of the project.\n",
    "- Once you've made a choice for the number of components to keep, make sure you re-fit a PCA instance to perform the decided-on transformation."
   ]
  },
  {
   "cell_type": "code",
   "execution_count": null,
   "metadata": {},
   "outputs": [],
   "source": [
    "# Apply PCA to the data.\n",
    "\n"
   ]
  },
  {
   "cell_type": "code",
   "execution_count": null,
   "metadata": {},
   "outputs": [],
   "source": [
    "# Investigate the variance accounted for by each principal component.\n",
    "\n"
   ]
  },
  {
   "cell_type": "code",
   "execution_count": null,
   "metadata": {},
   "outputs": [],
   "source": [
    "# Re-apply PCA to the data while selecting for number of components to retain.\n",
    "\n"
   ]
  },
  {
   "cell_type": "markdown",
   "metadata": {},
   "source": [
    "### Discussion 2.2: Perform Dimensionality Reduction\n",
    "\n",
    "(Double-click this cell and replace this text with your own text, reporting your findings and decisions regarding dimensionality reduction. How many principal components / transformed features are you retaining for the next step of the analysis?)"
   ]
  },
  {
   "cell_type": "markdown",
   "metadata": {},
   "source": [
    "### Step 2.3: Interpret Principal Components\n",
    "\n",
    "Now that we have our transformed principal components, it's a nice idea to check out the weight of each variable on the first few components to see if they can be interpreted in some fashion.\n",
    "\n",
    "As a reminder, each principal component is a unit vector that points in the direction of highest variance (after accounting for the variance captured by earlier principal components). The further a weight is from zero, the more the principal component is in the direction of the corresponding feature. If two features have large weights of the same sign (both positive or both negative), then increases in one tend expect to be associated with increases in the other. To contrast, features with different signs can be expected to show a negative correlation: increases in one variable should result in a decrease in the other.\n",
    "\n",
    "- To investigate the features, you should map each weight to their corresponding feature name, then sort the features according to weight. The most interesting features for each principal component, then, will be those at the beginning and end of the sorted list. Use the data dictionary document to help you understand these most prominent features, their relationships, and what a positive or negative value on the principal component might indicate.\n",
    "- You should investigate and interpret feature associations from the first three principal components in this substep. To help facilitate this, you should write a function that you can call at any time to print the sorted list of feature weights, for the *i*-th principal component. This might come in handy in the next step of the project, when you interpret the tendencies of the discovered clusters."
   ]
  },
  {
   "cell_type": "code",
   "execution_count": null,
   "metadata": {},
   "outputs": [],
   "source": [
    "# Map weights for the first principal component to corresponding feature names\n",
    "# and then print the linked values, sorted by weight.\n",
    "# HINT: Try defining a function here or in a new cell that you can reuse in the\n",
    "# other cells.\n",
    "\n"
   ]
  },
  {
   "cell_type": "code",
   "execution_count": null,
   "metadata": {},
   "outputs": [],
   "source": [
    "# Map weights for the second principal component to corresponding feature names\n",
    "# and then print the linked values, sorted by weight.\n",
    "\n"
   ]
  },
  {
   "cell_type": "code",
   "execution_count": null,
   "metadata": {},
   "outputs": [],
   "source": [
    "# Map weights for the third principal component to corresponding feature names\n",
    "# and then print the linked values, sorted by weight.\n",
    "\n"
   ]
  },
  {
   "cell_type": "markdown",
   "metadata": {},
   "source": [
    "### Discussion 2.3: Interpret Principal Components\n",
    "\n",
    "(Double-click this cell and replace this text with your own text, reporting your observations from detailed investigation of the first few principal components generated. Can we interpret positive and negative values from them in a meaningful way?)"
   ]
  },
  {
   "cell_type": "markdown",
   "metadata": {},
   "source": [
    "## Step 3: Clustering\n",
    "\n",
    "### Step 3.1: Apply Clustering to General Population\n",
    "\n",
    "You've assessed and cleaned the demographics data, then scaled and transformed them. Now, it's time to see how the data clusters in the principal components space. In this substep, you will apply k-means clustering to the dataset and use the average within-cluster distances from each point to their assigned cluster's centroid to decide on a number of clusters to keep.\n",
    "\n",
    "- Use sklearn's [KMeans](http://scikit-learn.org/stable/modules/generated/sklearn.cluster.KMeans.html#sklearn.cluster.KMeans) class to perform k-means clustering on the PCA-transformed data.\n",
    "- Then, compute the average difference from each point to its assigned cluster's center. **Hint**: The KMeans object's `.score()` method might be useful here, but note that in sklearn, scores tend to be defined so that larger is better. Try applying it to a small, toy dataset, or use an internet search to help your understanding.\n",
    "- Perform the above two steps for a number of different cluster counts. You can then see how the average distance decreases with an increasing number of clusters. However, each additional cluster provides a smaller net benefit. Use this fact to select a final number of clusters in which to group the data. **Warning**: because of the large size of the dataset, it can take a long time for the algorithm to resolve. The more clusters to fit, the longer the algorithm will take. You should test for cluster counts through at least 10 clusters to get the full picture, but you shouldn't need to test for a number of clusters above about 30.\n",
    "- Once you've selected a final number of clusters to use, re-fit a KMeans instance to perform the clustering operation. Make sure that you also obtain the cluster assignments for the general demographics data, since you'll be using them in the final Step 3.3."
   ]
  },
  {
   "cell_type": "code",
   "execution_count": null,
   "metadata": {},
   "outputs": [],
   "source": [
    "# Over a number of different cluster counts...\n",
    "\n",
    "\n",
    "    # run k-means clustering on the data and...\n",
    "    \n",
    "    \n",
    "    # compute the average within-cluster distances.\n",
    "    \n",
    "    "
   ]
  },
  {
   "cell_type": "code",
   "execution_count": null,
   "metadata": {},
   "outputs": [],
   "source": [
    "# Investigate the change in within-cluster distance across number of clusters.\n",
    "# HINT: Use matplotlib's plot function to visualize this relationship.\n",
    "\n"
   ]
  },
  {
   "cell_type": "code",
   "execution_count": null,
   "metadata": {},
   "outputs": [],
   "source": [
    "# Re-fit the k-means model with the selected number of clusters and obtain\n",
    "# cluster predictions for the general population demographics data.\n",
    "\n"
   ]
  },
  {
   "cell_type": "markdown",
   "metadata": {},
   "source": [
    "### Discussion 3.1: Apply Clustering to General Population\n",
    "\n",
    "(Double-click this cell and replace this text with your own text, reporting your findings and decisions regarding clustering. Into how many clusters have you decided to segment the population?)"
   ]
  },
  {
   "cell_type": "markdown",
   "metadata": {},
   "source": [
    "### Step 3.2: Apply All Steps to the Customer Data\n",
    "\n",
    "Now that you have clusters and cluster centers for the general population, it's time to see how the customer data maps on to those clusters. Take care to not confuse this for re-fitting all of the models to the customer data. Instead, you're going to use the fits from the general population to clean, transform, and cluster the customer data. In the last step of the project, you will interpret how the general population fits apply to the customer data.\n",
    "\n",
    "- Don't forget when loading in the customers data, that it is semicolon (`;`) delimited.\n",
    "- Apply the same feature wrangling, selection, and engineering steps to the customer demographics using the `clean_data()` function you created earlier. (You can assume that the customer demographics data has similar meaning behind missing data patterns as the general demographics data.)\n",
    "- Use the sklearn objects from the general demographics data, and apply their transformations to the customers data. That is, you should not be using a `.fit()` or `.fit_transform()` method to re-fit the old objects, nor should you be creating new sklearn objects! Carry the data through the feature scaling, PCA, and clustering steps, obtaining cluster assignments for all of the data in the customer demographics data."
   ]
  },
  {
   "cell_type": "code",
   "execution_count": null,
   "metadata": {},
   "outputs": [],
   "source": [
    "# Load in the customer demographics data.\n",
    "customers = "
   ]
  },
  {
   "cell_type": "code",
   "execution_count": null,
   "metadata": {},
   "outputs": [],
   "source": [
    "# Apply preprocessing, feature transformation, and clustering from the general\n",
    "# demographics onto the customer data, obtaining cluster predictions for the\n",
    "# customer demographics data.\n",
    "\n"
   ]
  },
  {
   "cell_type": "markdown",
   "metadata": {},
   "source": [
    "### Step 3.3: Compare Customer Data to Demographics Data\n",
    "\n",
    "At this point, you have clustered data based on demographics of the general population of Germany, and seen how the customer data for a mail-order sales company maps onto those demographic clusters. In this final substep, you will compare the two cluster distributions to see where the strongest customer base for the company is.\n",
    "\n",
    "Consider the proportion of persons in each cluster for the general population, and the proportions for the customers. If we think the company's customer base to be universal, then the cluster assignment proportions should be fairly similar between the two. If there are only particular segments of the population that are interested in the company's products, then we should see a mismatch from one to the other. If there is a higher proportion of persons in a cluster for the customer data compared to the general population (e.g. 5% of persons are assigned to a cluster for the general population, but 15% of the customer data is closest to that cluster's centroid) then that suggests the people in that cluster to be a target audience for the company. On the other hand, the proportion of the data in a cluster being larger in the general population than the customer data (e.g. only 2% of customers closest to a population centroid that captures 6% of the data) suggests that group of persons to be outside of the target demographics.\n",
    "\n",
    "Take a look at the following points in this step:\n",
    "\n",
    "- Compute the proportion of data points in each cluster for the general population and the customer data. Visualizations will be useful here: both for the individual dataset proportions, but also to visualize the ratios in cluster representation between groups. Seaborn's [`countplot()`](https://seaborn.pydata.org/generated/seaborn.countplot.html) or [`barplot()`](https://seaborn.pydata.org/generated/seaborn.barplot.html) function could be handy.\n",
    "  - Recall the analysis you performed in step 1.1.3 of the project, where you separated out certain data points from the dataset if they had more than a specified threshold of missing values. If you found that this group was qualitatively different from the main bulk of the data, you should treat this as an additional data cluster in this analysis. Make sure that you account for the number of data points in this subset, for both the general population and customer datasets, when making your computations!\n",
    "- Which cluster or clusters are overrepresented in the customer dataset compared to the general population? Select at least one such cluster and infer what kind of people might be represented by that cluster. Use the principal component interpretations from step 2.3 or look at additional components to help you make this inference. Alternatively, you can use the `.inverse_transform()` method of the PCA and StandardScaler objects to transform centroids back to the original data space and interpret the retrieved values directly.\n",
    "- Perform a similar investigation for the underrepresented clusters. Which cluster or clusters are underrepresented in the customer dataset compared to the general population, and what kinds of people are typified by these clusters?"
   ]
  },
  {
   "cell_type": "code",
   "execution_count": null,
   "metadata": {},
   "outputs": [],
   "source": [
    "# Compare the proportion of data in each cluster for the customer data to the\n",
    "# proportion of data in each cluster for the general population.\n",
    "\n"
   ]
  },
  {
   "cell_type": "code",
   "execution_count": null,
   "metadata": {},
   "outputs": [],
   "source": [
    "# What kinds of people are part of a cluster that is overrepresented in the\n",
    "# customer data compared to the general population?\n",
    "\n"
   ]
  },
  {
   "cell_type": "code",
   "execution_count": null,
   "metadata": {},
   "outputs": [],
   "source": [
    "# What kinds of people are part of a cluster that is underrepresented in the\n",
    "# customer data compared to the general population?\n",
    "\n"
   ]
  },
  {
   "cell_type": "markdown",
   "metadata": {},
   "source": [
    "### Discussion 3.3: Compare Customer Data to Demographics Data\n",
    "\n",
    "(Double-click this cell and replace this text with your own text, reporting findings and conclusions from the clustering analysis. Can we describe segments of the population that are relatively popular with the mail-order company, or relatively unpopular with the company?)"
   ]
  },
  {
   "cell_type": "markdown",
   "metadata": {},
   "source": [
    "> Congratulations on making it this far in the project! Before you finish, make sure to check through the entire notebook from top to bottom to make sure that your analysis follows a logical flow and all of your findings are documented in **Discussion** cells. Once you've checked over all of your work, you should export the notebook as an HTML document to submit for evaluation. You can do this from the menu, navigating to **File -> Download as -> HTML (.html)**. You will submit both that document and this notebook for your project submission."
   ]
  },
  {
   "cell_type": "code",
   "execution_count": null,
   "metadata": {},
   "outputs": [],
   "source": []
  }
 ],
 "metadata": {
  "kernelspec": {
   "display_name": "Python 3 (ipykernel)",
   "language": "python",
   "name": "python3"
  },
  "language_info": {
   "codemirror_mode": {
    "name": "ipython",
    "version": 3
   },
   "file_extension": ".py",
   "mimetype": "text/x-python",
   "name": "python",
   "nbconvert_exporter": "python",
   "pygments_lexer": "ipython3",
   "version": "3.10.12"
  }
 },
 "nbformat": 4,
 "nbformat_minor": 4
}
