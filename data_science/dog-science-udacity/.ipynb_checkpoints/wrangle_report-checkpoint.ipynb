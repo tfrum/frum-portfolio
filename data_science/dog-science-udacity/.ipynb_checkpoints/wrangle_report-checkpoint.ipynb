{
 "cells": [
  {
   "cell_type": "markdown",
   "id": "819feb3b-11fd-47fa-a7a2-2d9523746f66",
   "metadata": {
    "editable": true,
    "slideshow": {
     "slide_type": ""
    },
    "tags": []
   },
   "source": [
    "Data Wrangling Report\n",
    "Tyler Frum\n",
    "For Udacity\n",
    "\n",
    "# Initialization\n",
    "During this data wrangling project we used a variety of tools to gather, assess, clean, and analyze this very inane data. Those tools were:\n",
    "- pandas\n",
    "- Requests\n",
    "- json\n",
    "- display, and HTML from IPython\n",
    "- re, to get regular expression functions\n",
    "- numpy\n",
    "- os, to write files\n",
    "- matplotlib to visualize data\n",
    "\n",
    "# Gathering Data\n",
    "We gathered data by reading the following files:\n",
    "- The archive data was read from a CSV file into a dataframe named df_archive.\n",
    "- The image-predictions.tsv file was downloaded using the requests library and then read into a dataframe named df_image_predictions.\n",
    "- The tweet JSON data was read from tweet-json.txt and extracted to create data lists for tweet_id, retweet_count, and favorite_count, which were then used to create a dataframe named df_tweet_data.\n",
    "\n",
    "# Assessing Data\n",
    "Various issues were identified in the data in a non-inclusive way they were detected in a variety of manual and programmatic ways. \n",
    "\n",
    "### Quality Issues:\n",
    "- Inconsistent data sizes among the three datasets.\n",
    "- Non-dog predictions present in p1, p2, and p3 columns in df_image_predictions.\n",
    "- Inconsistent formatting of dog breed names in both df_image_predictions and df_archive.\n",
    "- Arbitrary and excessively large values in the rating_numerator and rating_denominator columns of df_archive.\n",
    "- Invalid names and NaN values in the dog_name column of df_archive.\n",
    "- NaN values in the URL section of df_archive.\n",
    "### Tidiness Issues:\n",
    "\n",
    "- Poorly named columns in df_image_predictions.\n",
    "- Dog stage information (doggo, puppo, floofer, pupper) spread across multiple columns in df_archive.\n",
    "\n",
    "# Cleaning Data\n",
    "We did the following to clean up many of these (but not all) issues:\n",
    "- NaN values in the URL sections of df_archive were removed.\n",
    "- HTML tags were extracted from the source column of df_archive.\n",
    "- The four dog stage columns in df_archive were combined into a single dog_stage column.\n",
    "- Excessively large numerator and denominator values in df_archive were trimmed to improve data quality.\n",
    "- Non-name entries and NaN values were removed from the dog_name column of df_archive.\n",
    "- Columns were renamed for better readability in both df_image_predictions and df_archive.\n",
    "- The three datasets were merged into a master dataset named df_master.\n",
    "- Rows without dog predictions in all three predictors were removed from df_master.\n",
    "- Removed rows that were retweets and their associated columns.\n",
    "\n",
    "# Storing Data\n",
    "We then wrote the master dataframe (excluding values generated solely for illustrations) to a backup file.\n",
    "\n",
    "# Analyzing and vizualizing:\n",
    "We then analyzed three insights that I thought were immediately useful from the data, including:\n",
    "- the frequency of different breeds of dog\n",
    "- the distribution of scores as a measure of rating quality\n",
    "- the odds of a non-dog prediction, again as a measure of rating quality"
   ]
  }
 ],
 "metadata": {
  "kernelspec": {
   "display_name": "Python 3 (ipykernel)",
   "language": "python",
   "name": "python3"
  },
  "language_info": {
   "codemirror_mode": {
    "name": "ipython",
    "version": 3
   },
   "file_extension": ".py",
   "mimetype": "text/x-python",
   "name": "python",
   "nbconvert_exporter": "python",
   "pygments_lexer": "ipython3",
   "version": "3.12.1"
  }
 },
 "nbformat": 4,
 "nbformat_minor": 5
}
