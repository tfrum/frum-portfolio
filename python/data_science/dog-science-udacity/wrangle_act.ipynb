{
 "cells": [
  {
   "cell_type": "markdown",
   "id": "200e3b6e-6347-4e39-8c0f-bd1f5101e5a8",
   "metadata": {},
   "source": [
    "## Initialization"
   ]
  },
  {
   "cell_type": "code",
   "execution_count": 206,
   "id": "999aef4f-6d39-4515-8125-7e3a50652573",
   "metadata": {
    "editable": true,
    "slideshow": {
     "slide_type": ""
    },
    "tags": []
   },
   "outputs": [],
   "source": [
    "# Initialize tools for this project\n",
    "import pandas as pd\n",
    "import requests\n",
    "import json\n",
    "from IPython.display import display, HTML\n",
    "import re\n",
    "import numpy as np\n",
    "import os\n",
    "import matplotlib.pyplot as plt\n"
   ]
  },
  {
   "cell_type": "markdown",
   "id": "6988034b-659e-4a73-8dca-e1ec2335ae93",
   "metadata": {
    "editable": true,
    "slideshow": {
     "slide_type": ""
    },
    "tags": []
   },
   "source": [
    "## Step 1: Gathering Data\n",
    "\n",
    "First we'll set up our files, then read them into dataframes as needed."
   ]
  },
  {
   "cell_type": "code",
   "execution_count": 207,
   "id": "04fdb196-6f3f-4099-a42b-b4237d279837",
   "metadata": {},
   "outputs": [
    {
     "name": "stdout",
     "output_type": "stream",
     "text": [
      "(2356, 17)\n",
      "(2075, 12)\n"
     ]
    }
   ],
   "source": [
    "# Read the archive into a dataframe\n",
    "df_archive = pd.read_csv('twitter-archive-enhanced.csv')\n",
    "\n",
    "# Grab the image-predictions.tsv file and write it.\n",
    "r = requests.get('https://d17h27t6h515a5.cloudfront.net/topher/2017/August/599fd2ad_image-predictions/image-predictions.tsv')\n",
    "with open(\"image-predictions.tsv\", \"wb\") as file:\n",
    "        file.write(r.content)\n",
    "# Read the image-predictions.tsv file into a dataframe\n",
    "df_image_predictions = pd.read_csv('image-predictions.tsv', sep='\\t')\n",
    "\n",
    "print(df_archive.shape)\n",
    "print(df_image_predictions.shape)"
   ]
  },
  {
   "cell_type": "markdown",
   "id": "13ed57fd-383e-4b0f-a365-09b7d6607fca",
   "metadata": {},
   "source": [
    "**Now that we have our dataframe and our image-predictions.tsv file, we can move on to the Tweepy step.**\n",
    "\n",
    "However, there are some problems with that. It would take several months to complete a query of the appropriate data with Twitter's API limitations on a free account. I'm not about to give Elon Musk 100 dollars a month for this project. So we'll just read in the pre-made tweet-json file.\n",
    "\n",
    "Because of that I've skipped the tweepy step, but let's be honest--tweepy isn't hard to use."
   ]
  },
  {
   "cell_type": "code",
   "execution_count": 208,
   "id": "068d50fb-29cf-45dc-a941-d05ff7c0565f",
   "metadata": {
    "scrolled": true
   },
   "outputs": [
    {
     "name": "stdout",
     "output_type": "stream",
     "text": [
      "             tweet_id  retweet_count  favorite_count\n",
      "0  892420643555336193           8853           39467\n",
      "1  892177421306343426           6514           33819\n",
      "2  891815181378084864           4328           25461\n",
      "3  891689557279858688           8964           42908\n",
      "4  891327558926688256           9774           41048\n",
      "(2354, 3)\n"
     ]
    }
   ],
   "source": [
    "# Read the tweet JSON data from tweet-json.txt\n",
    "tweet_data = []\n",
    "with open('tweet-json.txt', 'r') as file:\n",
    "    for line in file:\n",
    "        tweet_data.append(json.loads(line))\n",
    "\n",
    "# Extract data from the JSON objects and store in lists\n",
    "tweet_ids = []\n",
    "retweet_counts = []\n",
    "favorite_counts = []\n",
    "\n",
    "for data in tweet_data:\n",
    "    tweet_ids.append(data['id'])\n",
    "    retweet_counts.append(data['retweet_count'])\n",
    "    favorite_counts.append(data['favorite_count'])\n",
    "\n",
    "# Create a DataFrame from the extracted data\n",
    "data = {\n",
    "    'tweet_id': tweet_ids,\n",
    "    'retweet_count': retweet_counts,\n",
    "    'favorite_count': favorite_counts\n",
    "}\n",
    "\n",
    "df_tweet_data = pd.DataFrame(data)\n",
    "\n",
    "# Preview the dataframe\n",
    "print(df_tweet_data.head())\n",
    "print(df_tweet_data.shape)"
   ]
  },
  {
   "cell_type": "markdown",
   "id": "42304aa0-b6a9-40d0-b45f-d57ec4af7397",
   "metadata": {},
   "source": [
    "## Step 2: Assessing Data\n",
    "To satisfy this section we need to do the following:\n",
    "- Detect and document at least eight (8) quality issues\n",
    "- Detect and document at least (2) tidiness issues\n",
    "- Perform these detections using both visual and programmatic assessments\n",
    "\n",
    "It's a good idea for you to enable output scrolling for the next sections. I'll comment them out for the HTML file."
   ]
  },
  {
   "cell_type": "code",
   "execution_count": 209,
   "id": "3b50c171-e178-4e0f-9d1c-ba68fdacced9",
   "metadata": {},
   "outputs": [
    {
     "name": "stdout",
     "output_type": "stream",
     "text": [
      "df_tweet_data shape:        (2354, 3)\n",
      "df_archive shape:           (2356, 17)\n",
      "df_image_predictions shape: (2075, 12)\n"
     ]
    }
   ],
   "source": [
    "print(f'df_tweet_data shape:        {df_tweet_data.shape}')\n",
    "print(f'df_archive shape:           {df_archive.shape}')\n",
    "print(f'df_image_predictions shape: {df_image_predictions.shape}')"
   ]
  },
  {
   "cell_type": "code",
   "execution_count": 210,
   "id": "a629c4b9-01b3-4625-8090-f0ed83a2da49",
   "metadata": {},
   "outputs": [
    {
     "name": "stdout",
     "output_type": "stream",
     "text": [
      "df_tweet_data Columns:\n",
      "tweet_id, int64\n",
      "retweet_count, int64\n",
      "favorite_count, int64\n",
      "\n",
      "df_archive Columns:\n",
      "tweet_id, int64\n",
      "in_reply_to_status_id, float64\n",
      "in_reply_to_user_id, float64\n",
      "timestamp, object\n",
      "source, object\n",
      "text, object\n",
      "retweeted_status_id, float64\n",
      "retweeted_status_user_id, float64\n",
      "retweeted_status_timestamp, object\n",
      "expanded_urls, object\n",
      "rating_numerator, int64\n",
      "rating_denominator, int64\n",
      "name, object\n",
      "doggo, object\n",
      "floofer, object\n",
      "pupper, object\n",
      "puppo, object\n",
      "\n",
      "df_image_predictions Columns:\n",
      "tweet_id, int64\n",
      "jpg_url, object\n",
      "img_num, int64\n",
      "p1, object\n",
      "p1_conf, float64\n",
      "p1_dog, bool\n",
      "p2, object\n",
      "p2_conf, float64\n",
      "p2_dog, bool\n",
      "p3, object\n",
      "p3_conf, float64\n",
      "p3_dog, bool\n",
      "\n"
     ]
    }
   ],
   "source": [
    "# Now we want to check to see if we have shared columns\n",
    "\n",
    "dataframes = {\n",
    "    'df_tweet_data': df_tweet_data,\n",
    "    'df_archive': df_archive,\n",
    "    'df_image_predictions': df_image_predictions\n",
    "}\n",
    "\n",
    "# Step 3: Iterate through the dictionary items to list column names and data types\n",
    "for df_name, df in dataframes.items():\n",
    "    print(f'{df_name} Columns:')\n",
    "    for column_name, data_type in zip(df.columns, df.dtypes):\n",
    "        print(f'{column_name}, {data_type}')\n",
    "    print()"
   ]
  },
  {
   "cell_type": "code",
   "execution_count": 211,
   "id": "f0351a95-de3b-4ffa-93ee-24764178d959",
   "metadata": {},
   "outputs": [
    {
     "data": {
      "text/html": [
       "<div>\n",
       "<style scoped>\n",
       "    .dataframe tbody tr th:only-of-type {\n",
       "        vertical-align: middle;\n",
       "    }\n",
       "\n",
       "    .dataframe tbody tr th {\n",
       "        vertical-align: top;\n",
       "    }\n",
       "\n",
       "    .dataframe thead th {\n",
       "        text-align: right;\n",
       "    }\n",
       "</style>\n",
       "<table border=\"1\" class=\"dataframe\">\n",
       "  <thead>\n",
       "    <tr style=\"text-align: right;\">\n",
       "      <th></th>\n",
       "      <th>tweet_id</th>\n",
       "      <th>retweet_count</th>\n",
       "      <th>favorite_count</th>\n",
       "    </tr>\n",
       "  </thead>\n",
       "  <tbody>\n",
       "    <tr>\n",
       "      <th>0</th>\n",
       "      <td>892420643555336193</td>\n",
       "      <td>8853</td>\n",
       "      <td>39467</td>\n",
       "    </tr>\n",
       "  </tbody>\n",
       "</table>\n",
       "</div>"
      ],
      "text/plain": [
       "             tweet_id  retweet_count  favorite_count\n",
       "0  892420643555336193           8853           39467"
      ]
     },
     "execution_count": 211,
     "metadata": {},
     "output_type": "execute_result"
    }
   ],
   "source": [
    "# Now we will inspect each data frame to see what kind of data we're being provided\n",
    "# These have been trimmed down to a single value after inspection.\n",
    "\n",
    "df_tweet_data.head(1)"
   ]
  },
  {
   "cell_type": "code",
   "execution_count": 212,
   "id": "f5736474-12ee-4587-aee3-d719196ddd63",
   "metadata": {
    "scrolled": true
   },
   "outputs": [
    {
     "data": {
      "text/html": [
       "<div>\n",
       "<style scoped>\n",
       "    .dataframe tbody tr th:only-of-type {\n",
       "        vertical-align: middle;\n",
       "    }\n",
       "\n",
       "    .dataframe tbody tr th {\n",
       "        vertical-align: top;\n",
       "    }\n",
       "\n",
       "    .dataframe thead th {\n",
       "        text-align: right;\n",
       "    }\n",
       "</style>\n",
       "<table border=\"1\" class=\"dataframe\">\n",
       "  <thead>\n",
       "    <tr style=\"text-align: right;\">\n",
       "      <th></th>\n",
       "      <th>tweet_id</th>\n",
       "      <th>in_reply_to_status_id</th>\n",
       "      <th>in_reply_to_user_id</th>\n",
       "      <th>timestamp</th>\n",
       "      <th>source</th>\n",
       "      <th>text</th>\n",
       "      <th>retweeted_status_id</th>\n",
       "      <th>retweeted_status_user_id</th>\n",
       "      <th>retweeted_status_timestamp</th>\n",
       "      <th>expanded_urls</th>\n",
       "      <th>rating_numerator</th>\n",
       "      <th>rating_denominator</th>\n",
       "      <th>name</th>\n",
       "      <th>doggo</th>\n",
       "      <th>floofer</th>\n",
       "      <th>pupper</th>\n",
       "      <th>puppo</th>\n",
       "    </tr>\n",
       "  </thead>\n",
       "  <tbody>\n",
       "    <tr>\n",
       "      <th>0</th>\n",
       "      <td>892420643555336193</td>\n",
       "      <td>NaN</td>\n",
       "      <td>NaN</td>\n",
       "      <td>2017-08-01 16:23:56 +0000</td>\n",
       "      <td>&lt;a href=\"http://twitter.com/download/iphone\" r...</td>\n",
       "      <td>This is Phineas. He's a mystical boy. Only eve...</td>\n",
       "      <td>NaN</td>\n",
       "      <td>NaN</td>\n",
       "      <td>NaN</td>\n",
       "      <td>https://twitter.com/dog_rates/status/892420643...</td>\n",
       "      <td>13</td>\n",
       "      <td>10</td>\n",
       "      <td>Phineas</td>\n",
       "      <td>NaN</td>\n",
       "      <td>NaN</td>\n",
       "      <td>NaN</td>\n",
       "      <td>NaN</td>\n",
       "    </tr>\n",
       "  </tbody>\n",
       "</table>\n",
       "</div>"
      ],
      "text/plain": [
       "             tweet_id  in_reply_to_status_id  in_reply_to_user_id  \\\n",
       "0  892420643555336193                    NaN                  NaN   \n",
       "\n",
       "                   timestamp  \\\n",
       "0  2017-08-01 16:23:56 +0000   \n",
       "\n",
       "                                              source  \\\n",
       "0  <a href=\"http://twitter.com/download/iphone\" r...   \n",
       "\n",
       "                                                text  retweeted_status_id  \\\n",
       "0  This is Phineas. He's a mystical boy. Only eve...                  NaN   \n",
       "\n",
       "   retweeted_status_user_id retweeted_status_timestamp  \\\n",
       "0                       NaN                        NaN   \n",
       "\n",
       "                                       expanded_urls  rating_numerator  \\\n",
       "0  https://twitter.com/dog_rates/status/892420643...                13   \n",
       "\n",
       "   rating_denominator     name doggo floofer pupper puppo  \n",
       "0                  10  Phineas   NaN     NaN    NaN   NaN  "
      ]
     },
     "execution_count": 212,
     "metadata": {},
     "output_type": "execute_result"
    }
   ],
   "source": [
    "df_archive.head(1)"
   ]
  },
  {
   "cell_type": "code",
   "execution_count": 213,
   "id": "dfb4a674-190f-4dfa-b494-88f7c85d583f",
   "metadata": {
    "scrolled": true
   },
   "outputs": [
    {
     "data": {
      "text/html": [
       "<div>\n",
       "<style scoped>\n",
       "    .dataframe tbody tr th:only-of-type {\n",
       "        vertical-align: middle;\n",
       "    }\n",
       "\n",
       "    .dataframe tbody tr th {\n",
       "        vertical-align: top;\n",
       "    }\n",
       "\n",
       "    .dataframe thead th {\n",
       "        text-align: right;\n",
       "    }\n",
       "</style>\n",
       "<table border=\"1\" class=\"dataframe\">\n",
       "  <thead>\n",
       "    <tr style=\"text-align: right;\">\n",
       "      <th></th>\n",
       "      <th>tweet_id</th>\n",
       "      <th>jpg_url</th>\n",
       "      <th>img_num</th>\n",
       "      <th>p1</th>\n",
       "      <th>p1_conf</th>\n",
       "      <th>p1_dog</th>\n",
       "      <th>p2</th>\n",
       "      <th>p2_conf</th>\n",
       "      <th>p2_dog</th>\n",
       "      <th>p3</th>\n",
       "      <th>p3_conf</th>\n",
       "      <th>p3_dog</th>\n",
       "    </tr>\n",
       "  </thead>\n",
       "  <tbody>\n",
       "    <tr>\n",
       "      <th>0</th>\n",
       "      <td>666020888022790149</td>\n",
       "      <td>https://pbs.twimg.com/media/CT4udn0WwAA0aMy.jpg</td>\n",
       "      <td>1</td>\n",
       "      <td>Welsh_springer_spaniel</td>\n",
       "      <td>0.465074</td>\n",
       "      <td>True</td>\n",
       "      <td>collie</td>\n",
       "      <td>0.156665</td>\n",
       "      <td>True</td>\n",
       "      <td>Shetland_sheepdog</td>\n",
       "      <td>0.061428</td>\n",
       "      <td>True</td>\n",
       "    </tr>\n",
       "  </tbody>\n",
       "</table>\n",
       "</div>"
      ],
      "text/plain": [
       "             tweet_id                                          jpg_url  \\\n",
       "0  666020888022790149  https://pbs.twimg.com/media/CT4udn0WwAA0aMy.jpg   \n",
       "\n",
       "   img_num                      p1   p1_conf  p1_dog      p2   p2_conf  \\\n",
       "0        1  Welsh_springer_spaniel  0.465074    True  collie  0.156665   \n",
       "\n",
       "   p2_dog                 p3   p3_conf  p3_dog  \n",
       "0    True  Shetland_sheepdog  0.061428    True  "
      ]
     },
     "execution_count": 213,
     "metadata": {},
     "output_type": "execute_result"
    }
   ],
   "source": [
    "df_image_predictions.head(1)"
   ]
  },
  {
   "cell_type": "code",
   "execution_count": 214,
   "id": "73f83877-bed9-4295-aac2-6a42e4e1c0eb",
   "metadata": {
    "scrolled": true
   },
   "outputs": [],
   "source": [
    "names = df_archive.name.unique()\n",
    "\n",
    "# I commented this out for readability.\n",
    "# print(names)"
   ]
  },
  {
   "cell_type": "code",
   "execution_count": 215,
   "id": "084b5066-f3df-4879-a098-d6e1b89e78a6",
   "metadata": {},
   "outputs": [
    {
     "name": "stdout",
     "output_type": "stream",
     "text": [
      "170\n",
      "1776\n"
     ]
    }
   ],
   "source": [
    "output = df_archive.rating_denominator.unique()\n",
    "print(output.max())\n",
    "output = df_archive.rating_numerator.unique()\n",
    "print(output.max())"
   ]
  },
  {
   "cell_type": "markdown",
   "id": "96bebb72-058c-4ac3-915c-9db4456ebc56",
   "metadata": {},
   "source": [
    "## Assessing Data Conclusions\n",
    "\n",
    "First we checked the shapes of our data, which showed that these three datasets, which are intended to be paired, are not identical. df_tweet_data and df_tweet_archive should be identical, meaning the archive data contained either duplicate or invalid data which was not repeated\n",
    "tweet_json and the archive have mismatched counts etc\n",
    "\n",
    "\n",
    "Quality Issues:\n",
    "1. We can see from the beginning that our three datasets, which are derived from one-another, are not the same size. This implies unnecessary or unmatched data between the three of them.\n",
    "\n",
    "2. In the image_predictions file we have data that's very obviously not a dog breed in the p1, p3, and p2 columns, such as desktop_computer. This requires us to potentially filter the data on the boolean columns adjacent to them.\n",
    "\n",
    "3. Inspecting the specific contents of p3 we find that dingo is falsely classified as not a dog, while consulting its taxinomical classification and physical characteristics reveal it to absolutely be a dog, with only some niche-thinkers classifying it as a separate canid from other dogs. This means we can't fully trust that the boolean classifications in the image_predictions dataset are accurate. However, we will not be addressing this concern as it's likely stillaccurate enough not to support the validity of our emperical analysis.\n",
    "\n",
    "5. In the image_predictions file, dog breed names are not consistent in their formatting or capitalization. Similar issues can be found in the archive dataset.\n",
    "\n",
    "6. Programmatic: Returning a list of unique names from the archive shows many names that aren't names, such as dtype=object.\n",
    "\n",
    "7. An inspection of the ratings reveals that the numerator and denominator columns both contain arbitrarily large data that isn't useful for an analysis.\n",
    "\n",
    "8. There are NaN values in the url section of df_archive.\n",
    "\n",
    "9. tweet_id should probably be stored as an object rather than an integer, as it's a unique key identifier. However, this is technically less memory-efficient, so I won't bother to make this change.\n",
    "\n",
    "10. Retweet data needs to be stripped per the instructions of the project, as it's redundant data and will skew any analysis.\n",
    "\n",
    "Tidiness Issues\n",
    "1. Information about tweets is spread across three different dataframes, which is a tidiness issue because the information is all available and presumably accurate and usable, but not correctly organized.\n",
    "\n",
    "2. Colums such as doggo, puppo, floofer, and pupper should be under a single column with range of data values rather than many columns with a pseudo-boolean value stored as a string (e.g. pupper column containing pupper as the value.)\n",
    "\n",
    "Additional: In image_predictions we have very poorly named columns. They aren't descriptive and their contents aren't easily decipherable without a dictionary of some kind."
   ]
  },
  {
   "cell_type": "markdown",
   "id": "46274128-c4bc-4dc9-abb8-bd2b6a07c4b7",
   "metadata": {},
   "source": [
    "## Step 3: Cleaning Data\n",
    "\n",
    "First we'll copy the dataframes, and then address some of the tidiness and quality issues I cited, among others. Then we're going to create a merged dataset."
   ]
  },
  {
   "cell_type": "markdown",
   "id": "5f9093e4-8a93-4d4b-bde9-1618000200b0",
   "metadata": {},
   "source": [
    "# Copy"
   ]
  },
  {
   "cell_type": "code",
   "execution_count": 216,
   "id": "6c3ea240-ef01-4fe2-a0ee-af1f39c5038b",
   "metadata": {},
   "outputs": [
    {
     "name": "stdout",
     "output_type": "stream",
     "text": [
      "(2356, 17)\n",
      "(2075, 12)\n",
      "(2354, 3)\n"
     ]
    }
   ],
   "source": [
    "# Copy the dataframes.\n",
    "\n",
    "df2_archive = dataframes['df_archive'].copy()\n",
    "df2_image_predictions = dataframes['df_image_predictions'].copy()\n",
    "df2_tweet_data = dataframes['df_tweet_data'].copy()\n",
    "\n",
    "print(df2_archive.shape)\n",
    "print(df2_image_predictions.shape)\n",
    "print(df2_tweet_data.shape)\n",
    "\n",
    "# Updated this section to use the .copy() method."
   ]
  },
  {
   "cell_type": "markdown",
   "id": "87906a89-8c67-4a89-9210-96f3e90f86f2",
   "metadata": {},
   "source": [
    "# Step 3: Cleaning\n",
    "In this section I'll handle a few things that I mentioned above and condense these three datasets into a single dataset for analysis.\n",
    "\n",
    "We will do the following:\n",
    "\n",
    "- A - Remove NaN Values in the URL sections of df_archive\n",
    "- B - Clean the source files of the html tag surrounding the URL\n",
    "- C - Condense the columns doggo, puppo, floofer, and pupper into one\n",
    "- D - trim arbitrarily large numbers from the numerator and denominator to improve data quality\n",
    "- E - Remove non-name entires from the names column\n",
    "- F - Rename several columns for readbility such as p1, p2, etc.\n",
    "- G - trim any tweets that are not shared in common between our datasets and produce a master dataset.\n",
    "- H - trim any tweets that don't have a dog in all three of the predictors, because there's no dog even involved.\n",
    "- I - Remove retweets so that we can perform an accurate analysis.\n",
    "\n",
    "Some notes:\n",
    "- On E we chose 30 just as an arbitrary point. Assuming their rating system is standardized around 10 then ratings like 80/10 or 10/40 don't make sense to keep in our analysis.\n",
    "\n",
    "\n",
    "\n",
    "When combining these things we will:\n",
    "- Drop unneeded columns, such as the boolean values p1_dog, etc, which are not valid."
   ]
  },
  {
   "cell_type": "code",
   "execution_count": 217,
   "id": "d6f90577-1d46-42e6-ad3a-76feeb4d6bf6",
   "metadata": {},
   "outputs": [
    {
     "name": "stdout",
     "output_type": "stream",
     "text": [
      "0\n",
      "0\n"
     ]
    }
   ],
   "source": [
    "# Cleaning A\n",
    "\n",
    "# this is just a simple dropna function\n",
    "df2_archive = df2_archive.dropna(subset=['expanded_urls'])\n",
    "df2_archive = df2_archive.dropna(subset=['source'])\n",
    "\n",
    "print(df2_archive['expanded_urls'].isnull().sum())\n",
    "print(df2_archive['source'].isnull().sum())\n"
   ]
  },
  {
   "cell_type": "code",
   "execution_count": 218,
   "id": "224e9e44-bdcc-4db1-8206-31a61ffe3474",
   "metadata": {},
   "outputs": [
    {
     "name": "stdout",
     "output_type": "stream",
     "text": [
      "0    http://twitter.com/download/iphone\n",
      "Name: source, dtype: object\n"
     ]
    }
   ],
   "source": [
    "# Cleaning B\n",
    "\n",
    "# a function to extract the URL from the source column\n",
    "def extract_url(text):\n",
    "    # this just does some string matching to find the junk that's not a url\n",
    "    match = re.search(r'<a href=\"(.*?)\".*?>', text)\n",
    "    if match:\n",
    "        return match.group(1)\n",
    "    else:\n",
    "        return text\n",
    "\n",
    "df2_archive['source'] = df2_archive['source'].apply(extract_url)\n",
    "\n",
    "# proof it worked\n",
    "print(df2_archive['source'].head(1))"
   ]
  },
  {
   "cell_type": "code",
   "execution_count": 219,
   "id": "a056a680-763f-4398-a734-8dc5de45f062",
   "metadata": {},
   "outputs": [
    {
     "name": "stderr",
     "output_type": "stream",
     "text": [
      "/run/user/1000/app/org.jupyter.JupyterLab/ipykernel_468/431737477.py:7: FutureWarning: A value is trying to be set on a copy of a DataFrame or Series through chained assignment using an inplace method.\n",
      "The behavior will change in pandas 3.0. This inplace method will never work because the intermediate object on which we are setting values always behaves as a copy.\n",
      "\n",
      "For example, when doing 'df[col].method(value, inplace=True)', try using 'df.method({col: value}, inplace=True)' or df[col] = df[col].method(value) instead, to perform the operation inplace on the original object.\n",
      "\n",
      "\n",
      "  df2_archive['dog_stage'].replace('', np.nan, inplace=True)\n"
     ]
    },
    {
     "data": {
      "text/html": [
       "<div>\n",
       "<style scoped>\n",
       "    .dataframe tbody tr th:only-of-type {\n",
       "        vertical-align: middle;\n",
       "    }\n",
       "\n",
       "    .dataframe tbody tr th {\n",
       "        vertical-align: top;\n",
       "    }\n",
       "\n",
       "    .dataframe thead th {\n",
       "        text-align: right;\n",
       "    }\n",
       "</style>\n",
       "<table border=\"1\" class=\"dataframe\">\n",
       "  <thead>\n",
       "    <tr style=\"text-align: right;\">\n",
       "      <th></th>\n",
       "      <th>tweet_id</th>\n",
       "      <th>in_reply_to_status_id</th>\n",
       "      <th>in_reply_to_user_id</th>\n",
       "      <th>timestamp</th>\n",
       "      <th>source</th>\n",
       "      <th>text</th>\n",
       "      <th>retweeted_status_id</th>\n",
       "      <th>retweeted_status_user_id</th>\n",
       "      <th>retweeted_status_timestamp</th>\n",
       "      <th>expanded_urls</th>\n",
       "      <th>rating_numerator</th>\n",
       "      <th>rating_denominator</th>\n",
       "      <th>name</th>\n",
       "      <th>dog_stage</th>\n",
       "    </tr>\n",
       "  </thead>\n",
       "  <tbody>\n",
       "    <tr>\n",
       "      <th>0</th>\n",
       "      <td>892420643555336193</td>\n",
       "      <td>NaN</td>\n",
       "      <td>NaN</td>\n",
       "      <td>2017-08-01 16:23:56 +0000</td>\n",
       "      <td>http://twitter.com/download/iphone</td>\n",
       "      <td>This is Phineas. He's a mystical boy. Only eve...</td>\n",
       "      <td>NaN</td>\n",
       "      <td>NaN</td>\n",
       "      <td>NaN</td>\n",
       "      <td>https://twitter.com/dog_rates/status/892420643...</td>\n",
       "      <td>13</td>\n",
       "      <td>10</td>\n",
       "      <td>Phineas</td>\n",
       "      <td>NaN</td>\n",
       "    </tr>\n",
       "  </tbody>\n",
       "</table>\n",
       "</div>"
      ],
      "text/plain": [
       "             tweet_id  in_reply_to_status_id  in_reply_to_user_id  \\\n",
       "0  892420643555336193                    NaN                  NaN   \n",
       "\n",
       "                   timestamp                              source  \\\n",
       "0  2017-08-01 16:23:56 +0000  http://twitter.com/download/iphone   \n",
       "\n",
       "                                                text  retweeted_status_id  \\\n",
       "0  This is Phineas. He's a mystical boy. Only eve...                  NaN   \n",
       "\n",
       "   retweeted_status_user_id retweeted_status_timestamp  \\\n",
       "0                       NaN                        NaN   \n",
       "\n",
       "                                       expanded_urls  rating_numerator  \\\n",
       "0  https://twitter.com/dog_rates/status/892420643...                13   \n",
       "\n",
       "   rating_denominator     name dog_stage  \n",
       "0                  10  Phineas       NaN  "
      ]
     },
     "execution_count": 219,
     "metadata": {},
     "output_type": "execute_result"
    }
   ],
   "source": [
    "# Cleaning C\n",
    "\n",
    "# create a new dog_stage column\n",
    "# using a lambda function we'll pass the row in to check if it needs to be set to an abstracted value\n",
    "# I guess while the army had me the last six months this became a bad practice. but it still runs.\n",
    "\n",
    "df2_archive['dog_stage'] = df2_archive[['doggo', 'puppo', 'floofer', 'pupper']].apply(\n",
    "    lambda x: 'multistage' if x.str.count('(?:doggo|puppo|floofer|pupper)').sum() > 1 else x.dropna().str.cat(sep=','), axis=1)\n",
    "# empty values should always be NaN\n",
    "df2_archive['dog_stage'].replace('', np.nan, inplace=True)\n",
    "\n",
    "# drop the old stage columns\n",
    "df2_archive.drop(columns=['doggo', 'puppo', 'floofer', 'pupper'], inplace=True)\n",
    "\n",
    "# proof\n",
    "df2_archive.head(1)"
   ]
  },
  {
   "cell_type": "code",
   "execution_count": 221,
   "id": "c10c7337-d7e2-4b75-aa93-fa832f7a2abc",
   "metadata": {},
   "outputs": [
    {
     "name": "stdout",
     "output_type": "stream",
     "text": [
      "(2280, 14)\n",
      "(2075, 12)\n",
      "(2354, 3)\n"
     ]
    }
   ],
   "source": [
    "# Cleaning E\n",
    "\n",
    "df2_archive = df2_archive[(df2_archive['rating_numerator'] <= 30) & (df2_archive['rating_denominator'] <= 30)]\n",
    "\n",
    "print(df2_archive.shape)\n",
    "print(df2_image_predictions.shape)\n",
    "print(df2_tweet_data.shape)"
   ]
  },
  {
   "cell_type": "code",
   "execution_count": 222,
   "id": "0a1a706e-e734-4949-9940-19a5bf03f8b5",
   "metadata": {},
   "outputs": [
    {
     "name": "stdout",
     "output_type": "stream",
     "text": [
      "df2_tweet_data Columns:\n",
      "tweet_id, int64\n",
      "retweet_count, int64\n",
      "favorite_count, int64\n",
      "\n",
      "df2_archive Columns:\n",
      "tweet_id, int64\n",
      "in_reply_to_status_id, float64\n",
      "in_reply_to_user_id, float64\n",
      "timestamp, object\n",
      "source_url, object\n",
      "tweet_text, object\n",
      "retweeted_status_id, float64\n",
      "retweeted_status_user_id, float64\n",
      "retweeted_status_timestamp, object\n",
      "expanded_urls, object\n",
      "rating_numerator, int64\n",
      "rating_denominator, int64\n",
      "dog_name, object\n",
      "dog_stage, object\n",
      "\n",
      "df2_image_predictions Columns:\n",
      "tweet_id, int64\n",
      "jpg_url, object\n",
      "img_num, int64\n",
      "prediction_1, object\n",
      "prediction_1_confidence, float64\n",
      "prediction_1_is_dog, bool\n",
      "prediction_2, object\n",
      "prediction_2_confidence, float64\n",
      "prediction_2_is_dog, bool\n",
      "prediction_3, object\n",
      "prediction_3_confidence, float64\n",
      "prediction_3_is_dog, bool\n",
      "\n"
     ]
    }
   ],
   "source": [
    "# Cleaning F\n",
    "\n",
    "df2_image_predictions.rename(columns={\n",
    "    'p1': 'prediction_1',\n",
    "    'p1_conf': 'prediction_1_confidence',\n",
    "    'p1_dog': 'prediction_1_is_dog',\n",
    "    'p2': 'prediction_2',\n",
    "    'p2_conf': 'prediction_2_confidence',\n",
    "    'p2_dog': 'prediction_2_is_dog',\n",
    "    'p3': 'prediction_3',\n",
    "    'p3_conf': 'prediction_3_confidence',\n",
    "    'p3_dog': 'prediction_3_is_dog'\n",
    "}, inplace=True)\n",
    "\n",
    "df2_archive.rename(columns={\n",
    "    'source': 'source_url',\n",
    "    'text': 'tweet_text',\n",
    "    'name': 'dog_name'\n",
    "}, inplace=True)\n",
    "\n",
    "\n",
    "\n",
    "# let's review our column names before we move on to the next step\n",
    "dataframes = {\n",
    "    'df2_tweet_data': df2_tweet_data,\n",
    "    'df2_archive': df2_archive,\n",
    "    'df2_image_predictions': df2_image_predictions\n",
    "}\n",
    "\n",
    "for df_name, df in dataframes.items():\n",
    "    print(f'{df_name} Columns:')\n",
    "    for column_name, data_type in zip(df.columns, df.dtypes):\n",
    "        print(f'{column_name}, {data_type}')\n",
    "    print()\n",
    "    "
   ]
  },
  {
   "cell_type": "code",
   "execution_count": 223,
   "id": "491384b7-e872-409f-81a4-8ee391ec926b",
   "metadata": {},
   "outputs": [
    {
     "name": "stdout",
     "output_type": "stream",
     "text": [
      "(2057, 27)\n",
      "tweet_id, int64\n",
      "retweet_count, int64\n",
      "favorite_count, int64\n",
      "in_reply_to_status_id, float64\n",
      "in_reply_to_user_id, float64\n",
      "timestamp, object\n",
      "source_url, object\n",
      "tweet_text, object\n",
      "retweeted_status_id, float64\n",
      "retweeted_status_user_id, float64\n",
      "retweeted_status_timestamp, object\n",
      "expanded_urls, object\n",
      "rating_numerator, int64\n",
      "rating_denominator, int64\n",
      "dog_name, object\n",
      "dog_stage, object\n",
      "jpg_url, object\n",
      "img_num, int64\n",
      "prediction_1, object\n",
      "prediction_1_confidence, float64\n",
      "prediction_1_is_dog, bool\n",
      "prediction_2, object\n",
      "prediction_2_confidence, float64\n",
      "prediction_2_is_dog, bool\n",
      "prediction_3, object\n",
      "prediction_3_confidence, float64\n",
      "prediction_3_is_dog, bool\n"
     ]
    }
   ],
   "source": [
    "# Cleaning G\n",
    "\n",
    "# merging the datasets into a master dataset\n",
    "merged_tweet_archive = df2_tweet_data.merge(df2_archive, on='tweet_id', how='inner')\n",
    "\n",
    "df_master = merged_tweet_archive.merge(df2_image_predictions, on='tweet_id', how='inner')\n",
    "\n",
    "#showing out column names and the shape of the new dataset:\n",
    "\n",
    "print(df_master.shape)\n",
    "\n",
    "for column_name, data_type in df_master.dtypes.items():\n",
    "    print(f'{column_name}, {data_type}')"
   ]
  },
  {
   "cell_type": "code",
   "execution_count": 224,
   "id": "c60123ce-92e3-449b-9476-c9717dfa5faa",
   "metadata": {},
   "outputs": [
    {
     "name": "stdout",
     "output_type": "stream",
     "text": [
      "(1737, 27)\n"
     ]
    }
   ],
   "source": [
    "# Cleaning H\n",
    "\n",
    "# Drop rows where all three prediction_X_is_dog values are False\n",
    "df_master = df_master[~(~df_master['prediction_1_is_dog'] &\n",
    "                       ~df_master['prediction_2_is_dog'] &\n",
    "                       ~df_master['prediction_3_is_dog'])]\n",
    "\n",
    "print(df_master.shape)"
   ]
  },
  {
   "cell_type": "code",
   "execution_count": 225,
   "id": "201cf179-c6f5-49f8-9bde-c9848953d43b",
   "metadata": {
    "scrolled": true
   },
   "outputs": [
    {
     "name": "stdout",
     "output_type": "stream",
     "text": [
      "tweet_id\n",
      "retweet_count\n",
      "favorite_count\n",
      "in_reply_to_status_id\n",
      "in_reply_to_user_id\n",
      "timestamp\n",
      "source_url\n",
      "tweet_text\n",
      "retweeted_status_id\n",
      "retweeted_status_user_id\n",
      "retweeted_status_timestamp\n",
      "expanded_urls\n",
      "rating_numerator\n",
      "rating_denominator\n",
      "dog_name\n",
      "dog_stage\n",
      "jpg_url\n",
      "img_num\n",
      "prediction_1\n",
      "prediction_1_confidence\n",
      "prediction_1_is_dog\n",
      "prediction_2\n",
      "prediction_2_confidence\n",
      "prediction_2_is_dog\n",
      "prediction_3\n",
      "prediction_3_confidence\n",
      "prediction_3_is_dog\n"
     ]
    }
   ],
   "source": [
    "# Cleaning I\n",
    "\n",
    "# Remove all rows that contain retweet information and then drop the retweet columns.\n",
    "\n",
    "# First we'll figure out where our retweet data is stored.\n",
    "for column in df_master.columns:\n",
    "    print(column)\n"
   ]
  },
  {
   "cell_type": "markdown",
   "id": "5db06e1a-6a86-44db-9212-4fbcf666db55",
   "metadata": {},
   "source": [
    "So we need to operate on these columns:\n",
    "- retweeted_status_id\n",
    "- retweeted_status_user_id\n",
    "- retweeted_status_timestamp"
   ]
  },
  {
   "cell_type": "code",
   "execution_count": 226,
   "id": "ea2f0ac4-9e8f-43cb-904c-b6c8ed4c84c9",
   "metadata": {},
   "outputs": [
    {
     "name": "stdout",
     "output_type": "stream",
     "text": [
      "(1673, 27)\n",
      "(1673, 24)\n"
     ]
    }
   ],
   "source": [
    "# First we'll drop rows with non-null values in these columns:\n",
    "mask = df_master['retweeted_status_id'].notna() | \\\n",
    "       df_master['retweeted_status_user_id'].notna() | \\\n",
    "       df_master['retweeted_status_timestamp'].notna()\n",
    "\n",
    "df_master = df_master[~mask]\n",
    "# Which leaves us all the non-null rows:\n",
    "print(df_master.shape)\n",
    "\n",
    "# Finally let's drop those retweet columns:\n",
    "drop_columns = ['retweeted_status_id', 'retweeted_status_user_id', 'retweeted_status_timestamp']\n",
    "df_master.drop(columns=drop_columns, inplace = True)\n",
    "print(df_master.shape)"
   ]
  },
  {
   "cell_type": "markdown",
   "id": "a959efb7-d734-40a0-bfbd-2b00cffdc77f",
   "metadata": {},
   "source": [
    "## Step 4: Storing Data\n",
    "\n",
    "Now we'll export our master dataframe to a csv."
   ]
  },
  {
   "cell_type": "code",
   "execution_count": 227,
   "id": "32ce22a6-1573-4a5e-9cc9-a92c477df377",
   "metadata": {},
   "outputs": [
    {
     "name": "stdout",
     "output_type": "stream",
     "text": [
      "File written successfully?\n",
      "True\n"
     ]
    }
   ],
   "source": [
    "df_master.to_csv('twitter_archive_master.csv', index=False)\n",
    "\n",
    "print(f'File written successfully?\\n{os.path.exists(\"twitter_archive_master.csv\")}')\n"
   ]
  },
  {
   "cell_type": "markdown",
   "id": "43517cc0-b38b-403e-b01b-a3363b698755",
   "metadata": {},
   "source": [
    "## Step 5: Analyzing and Visualizing Data\n",
    "\n",
    "Well, at this point we need to ask ourselves, what are three questions we can ask about this data?\n",
    "I'm not inclined to ask particularly deep questions, because I won't get the time I spent looking at this purposeless data back on my inevitable march to oblivion.\n",
    "\n",
    "So let's address three things:\n",
    "\n",
    "1. What dog breed shows up most often in these comparisons?\n",
    "\n",
    "2. Are the scores distributed normally (we'll visualize this)? If they aren't, what does this imply?'\n",
    "\n",
    "3. What are the odds that one of the three items in any given tweet was not a dog? This seems like a big deal.\n",
    "\n"
   ]
  },
  {
   "cell_type": "markdown",
   "id": "513f471a-dd2e-46f2-84ff-0fda72266256",
   "metadata": {},
   "source": [
    "### Insight 1:\n",
    "\n",
    "So this was a bit of a blowout for Golden Retrievers and labradors. People must really like those dogs.\\\n",
    "\n",
    "As we can see, the distribution is hardly normal. A few breeds with a lot of references, and a whole lot with maybe one. It should be noted that man of those single number \"breeds\" aren't breeds, as we didn't filter our count on the untrustable boolean columns which identify whether or not a prediction item is a dog or not. We can't trust it, sow e just didn't use it. Our top results are all dogs, anyway."
   ]
  },
  {
   "cell_type": "code",
   "execution_count": 228,
   "id": "d0f3c945-e73a-4d85-ac3f-db711a86fe80",
   "metadata": {},
   "outputs": [
    {
     "data": {
      "text/html": [
       "<div>\n",
       "<style scoped>\n",
       "    .dataframe tbody tr th:only-of-type {\n",
       "        vertical-align: middle;\n",
       "    }\n",
       "\n",
       "    .dataframe tbody tr th {\n",
       "        vertical-align: top;\n",
       "    }\n",
       "\n",
       "    .dataframe thead th {\n",
       "        text-align: right;\n",
       "    }\n",
       "</style>\n",
       "<table border=\"1\" class=\"dataframe\">\n",
       "  <thead>\n",
       "    <tr style=\"text-align: right;\">\n",
       "      <th></th>\n",
       "      <th>prediction_1</th>\n",
       "      <th>prediction_2</th>\n",
       "      <th>prediction_3</th>\n",
       "      <th>total_count</th>\n",
       "    </tr>\n",
       "  </thead>\n",
       "  <tbody>\n",
       "    <tr>\n",
       "      <th>Labrador_retriever</th>\n",
       "      <td>92.0</td>\n",
       "      <td>96.0</td>\n",
       "      <td>76.0</td>\n",
       "      <td>264.0</td>\n",
       "    </tr>\n",
       "    <tr>\n",
       "      <th>golden_retriever</th>\n",
       "      <td>137.0</td>\n",
       "      <td>80.0</td>\n",
       "      <td>45.0</td>\n",
       "      <td>262.0</td>\n",
       "    </tr>\n",
       "    <tr>\n",
       "      <th>Chihuahua</th>\n",
       "      <td>79.0</td>\n",
       "      <td>42.0</td>\n",
       "      <td>57.0</td>\n",
       "      <td>178.0</td>\n",
       "    </tr>\n",
       "    <tr>\n",
       "      <th>Pembroke</th>\n",
       "      <td>88.0</td>\n",
       "      <td>25.0</td>\n",
       "      <td>26.0</td>\n",
       "      <td>139.0</td>\n",
       "    </tr>\n",
       "    <tr>\n",
       "      <th>Cardigan</th>\n",
       "      <td>17.0</td>\n",
       "      <td>72.0</td>\n",
       "      <td>23.0</td>\n",
       "      <td>112.0</td>\n",
       "    </tr>\n",
       "    <tr>\n",
       "      <th>Pomeranian</th>\n",
       "      <td>37.0</td>\n",
       "      <td>39.0</td>\n",
       "      <td>27.0</td>\n",
       "      <td>103.0</td>\n",
       "    </tr>\n",
       "    <tr>\n",
       "      <th>toy_poodle</th>\n",
       "      <td>38.0</td>\n",
       "      <td>36.0</td>\n",
       "      <td>29.0</td>\n",
       "      <td>103.0</td>\n",
       "    </tr>\n",
       "    <tr>\n",
       "      <th>pug</th>\n",
       "      <td>54.0</td>\n",
       "      <td>17.0</td>\n",
       "      <td>20.0</td>\n",
       "      <td>91.0</td>\n",
       "    </tr>\n",
       "    <tr>\n",
       "      <th>French_bulldog</th>\n",
       "      <td>26.0</td>\n",
       "      <td>39.0</td>\n",
       "      <td>25.0</td>\n",
       "      <td>90.0</td>\n",
       "    </tr>\n",
       "    <tr>\n",
       "      <th>chow</th>\n",
       "      <td>41.0</td>\n",
       "      <td>20.0</td>\n",
       "      <td>29.0</td>\n",
       "      <td>90.0</td>\n",
       "    </tr>\n",
       "  </tbody>\n",
       "</table>\n",
       "</div>"
      ],
      "text/plain": [
       "                    prediction_1  prediction_2  prediction_3  total_count\n",
       "Labrador_retriever          92.0          96.0          76.0        264.0\n",
       "golden_retriever           137.0          80.0          45.0        262.0\n",
       "Chihuahua                   79.0          42.0          57.0        178.0\n",
       "Pembroke                    88.0          25.0          26.0        139.0\n",
       "Cardigan                    17.0          72.0          23.0        112.0\n",
       "Pomeranian                  37.0          39.0          27.0        103.0\n",
       "toy_poodle                  38.0          36.0          29.0        103.0\n",
       "pug                         54.0          17.0          20.0         91.0\n",
       "French_bulldog              26.0          39.0          25.0         90.0\n",
       "chow                        41.0          20.0          29.0         90.0"
      ]
     },
     "execution_count": 228,
     "metadata": {},
     "output_type": "execute_result"
    }
   ],
   "source": [
    "# first we'll create a dataframe to store this multi-culumn data\n",
    "breed_counts = pd.DataFrame()\n",
    "\n",
    "# now we'll grab the counts of each value\n",
    "breeds_prediction_1 = df_master['prediction_1'].value_counts()\n",
    "breeds_prediction_2 = df_master['prediction_2'].value_counts()\n",
    "breeds_prediction_3 = df_master['prediction_3'].value_counts()\n",
    "\n",
    "# we'll concatenate those into the dataframe\n",
    "breed_counts = pd.concat([breeds_prediction_1, breeds_prediction_2, breeds_prediction_3], axis=1)\n",
    "breed_counts.columns = ['prediction_1', 'prediction_2', 'prediction_3']\n",
    "\n",
    "# we might normally need to set NaN's to 0 here, but not in this case\n",
    "\n",
    "# sum it all\n",
    "breed_counts['total_count'] = breed_counts.sum(axis=1)\n",
    "\n",
    "# sort it by largest first on the total_count column\n",
    "breed_counts = breed_counts.sort_values(by='total_count', ascending=False)\n",
    "\n",
    "# Display the breed counts\n",
    "breed_counts.head(10)"
   ]
  },
  {
   "cell_type": "code",
   "execution_count": 229,
   "id": "c56e6d72-96af-4e5d-8dc3-d989958eb47e",
   "metadata": {
    "editable": true,
    "slideshow": {
     "slide_type": ""
    },
    "tags": []
   },
   "outputs": [
    {
     "data": {
      "image/png": "[encoded data removed]",
      "text/plain": [
       "<Figure size 1000x600 with 1 Axes>"
      ]
     },
     "metadata": {},
     "output_type": "display_data"
    }
   ],
   "source": [
    "plt.figure(figsize=(10, 6))\n",
    "plt.hist(breed_counts['total_count'], bins=100, edgecolor='black')\n",
    "plt.xlabel('Total Count')\n",
    "plt.ylabel('Number of Breeds')\n",
    "plt.title('Distribution of Dog Breed Counts')\n",
    "plt.grid(True)\n",
    "plt.show()"
   ]
  },
  {
   "cell_type": "markdown",
   "id": "eb18bdd1-0cd6-4ef7-9f64-4677d978ee78",
   "metadata": {},
   "source": [
    "### Insight 2:\n",
    "\n",
    "Because we're dealing with arbitrary scores, we'll need to actually generate an average score value on df_master, which we'll do below.\n",
    "\n",
    "What we can see from the resulting graph is that the data is normal-ish. This tells us there's *some* validity to the scores used in this measure. However, they're right-skewed where they are distributed, and that implies that scores are generally higher than lower.\n",
    "\n",
    "Likewise, scores are above 1, which means that a majority of scores had numerators higher than denominators, such as 11/10. We also didn't catch all of our edgecases, which is shown by the outliers on the right-end of the data."
   ]
  },
  {
   "cell_type": "code",
   "execution_count": 230,
   "id": "bb08e444-411f-40fd-bfb6-b6f88ca14d57",
   "metadata": {},
   "outputs": [],
   "source": [
    "# generate an average score that's comparable despite different denominators\n",
    "df_master['average_score'] = df_master['rating_numerator'] / df_master['rating_denominator']"
   ]
  },
  {
   "cell_type": "code",
   "execution_count": 231,
   "id": "790e1185-6919-49f2-a07c-b6e1fc9c42d4",
   "metadata": {},
   "outputs": [
    {
     "data": {
      "image/png": "[encoded data removed]",
      "text/plain": [
       "<Figure size 1000x600 with 1 Axes>"
      ]
     },
     "metadata": {},
     "output_type": "display_data"
    }
   ],
   "source": [
    "plt.figure(figsize=(10, 6))\n",
    "plt.hist(df_master['average_score'], bins=20, edgecolor='black')\n",
    "plt.xlabel('Score')\n",
    "plt.ylabel('Number of Dogs')\n",
    "plt.title('Distribution of Individual Scores')\n",
    "plt.grid(True)\n",
    "plt.show()"
   ]
  },
  {
   "cell_type": "markdown",
   "id": "c582fd8e-5bcc-4659-9950-32ea2bda174e",
   "metadata": {},
   "source": [
    "# Insight 3:\n",
    "\n",
    "Now, while I don't trust the _is_dog boolean data, it's still an interesting topic to approach. There's not a lot to address here, but they were consistent in their occurance of non-dog items."
   ]
  },
  {
   "cell_type": "code",
   "execution_count": 232,
   "id": "d664ca05-1fd8-4fdf-aa4a-0ca88ba9c691",
   "metadata": {
    "editable": true,
    "slideshow": {
     "slide_type": ""
    },
    "tags": []
   },
   "outputs": [
    {
     "data": {
      "image/png": "[encoded data removed]",
      "text/plain": [
       "<Figure size 1800x600 with 3 Axes>"
      ]
     },
     "metadata": {},
     "output_type": "display_data"
    }
   ],
   "source": [
    "# first we'll calculate the odds of non-dog predictions\n",
    "non_dog_odds = 1 - df_master[['prediction_1_is_dog', 'prediction_2_is_dog', 'prediction_3_is_dog']].mean()\n",
    "\n",
    "\n",
    "# create pie charts\n",
    "labels = ['Non-Dog', 'Dog']\n",
    "plt.figure(figsize=(18, 6))\n",
    "\n",
    "# prediction 1\n",
    "plt.subplot(1, 3, 1)\n",
    "plt.pie([non_dog_odds['prediction_1_is_dog'], 1 - non_dog_odds['prediction_1_is_dog']], labels=labels, autopct='%1.1f%%')\n",
    "plt.title('Prediction 1')\n",
    "\n",
    "# prediction 2\n",
    "plt.subplot(1, 3, 2)\n",
    "plt.pie([non_dog_odds['prediction_2_is_dog'], 1 - non_dog_odds['prediction_2_is_dog']], labels=labels, autopct='%1.1f%%')\n",
    "plt.title('Prediction 2')\n",
    "\n",
    "# prediction 3\n",
    "plt.subplot(1, 3, 3)\n",
    "plt.pie([non_dog_odds['prediction_3_is_dog'], 1 - non_dog_odds['prediction_3_is_dog']], labels=labels, autopct='%1.1f%%')\n",
    "plt.title('Prediction 3')\n",
    "\n",
    "plt.tight_layout()\n",
    "plt.show()"
   ]
  }
 ],
 "metadata": {
  "kernelspec": {
   "display_name": "Python 3 (ipykernel)",
   "language": "python",
   "name": "python3"
  },
  "language_info": {
   "codemirror_mode": {
    "name": "ipython",
    "version": 3
   },
   "file_extension": ".py",
   "mimetype": "text/x-python",
   "name": "python",
   "nbconvert_exporter": "python",
   "pygments_lexer": "ipython3",
   "version": "3.12.1"
  }
 },
 "nbformat": 4,
 "nbformat_minor": 5
}
